{
 "cells": [
  {
   "cell_type": "markdown",
   "id": "8a26756c-2b18-471a-bc97-becbde30184d",
   "metadata": {},
   "source": [
    "Notes that follow from from The Visual Display of Quantitative Information by Edward Tufte.\n",
    "<ul>\n",
    "    <li> Excellence in statistical graphics consists of complex ideas communicated with clarity, precision and efficiency. Graphical displays should:</li>\n",
    "    <li> Show the data</li>\n",
    "    <li> Induce the viewer to think about the substance rather than about methodology, graphics design, or how the graph was produced or anything else</li>\n",
    "    <li> Avoid distorting what the data have to say</li>\n",
    "    <li> Present many numbers in a small space</li>\n",
    "    <li> Make large datasets coherent</li>\n",
    "    <li> Encourage the eye to compare different pieces of data</li>\n",
    "    <li> Reveal the data at several levels of detail, from a broad overview to a fine perspective</li>\n",
    "    <li> Serve a reasonably clear purpose: description, exploration, tabulation, or decoration</li>\n",
    "    <li> Closely integrated with statistical and verbal desciptions of the data</li>\n",
    "    <li> Graphics should reveal data</li>\n",
    "</ul>"
   ]
  },
  {
   "cell_type": "markdown",
   "id": "e8f70f6f-e7e8-4775-b7cc-7c70a6b6f20a",
   "metadata": {},
   "source": [
    "<b> Graphical Integrity </b>\n",
    "$Lie Factor = \\frac{size of the effect shown in the graphic}{size of the effect in the data}$"
   ]
  },
  {
   "cell_type": "markdown",
   "id": "f7a31c29-5ad6-4e3a-8fcd-973ac63a7f79",
   "metadata": {},
   "source": [
    "<ul>\n",
    "    <li> Graphical integrity is more likely to result if these six principles are followed:</li>\n",
    "    <li> The representation of numbers, as physically measures in the surface of the graphic itself, should be directly proportional to the numerical quantities represented</li>\n",
    "    <li> Clear,, detailed, and thorough labelling should be used to defeat graphcial distortion and ambiguity. Write out explanations of te data on teh graphic. Label important events in the data</li>\n",
    "    <li> Show data variation, not design variation</li>\n",
    "    <li> In time-series displays or money, deflated standardised units of monetary measurement should be used</li>\n",
    "    <li> The number of information carrying (variables) dimensions depocated should not exceed the number of dimensions in the data</li>\n",
    "    <li> Graphics must not quote data out of context</li>\n",
    "</ul>"
   ]
  },
  {
   "cell_type": "markdown",
   "id": "0dec37a6-f20f-4ce1-9415-a8ca73a1d27f",
   "metadata": {},
   "source": [
    "<ul>\n",
    "    <li> Sources of Graphical Integrity and Sophistication</li>\n",
    "    <li> Lack of quantitative skills of people producing graphs</li>\n",
    "    <li> The doctrine that statistical data are boring</li>\n",
    "    <li> If statistics are boring then you have the wrong numbers</li>\n",
    "    <li> The doctrine that graphics are only for the unsophisticated reader</li>\n",
    "    <li> Aimed to divert and entertain those who find the text difficult</li>\n",
    "    <li> E.B. White \"No one can write decently who is distrustful of the reader's intelligence, or whose attitude is patronising\"</li>\n",
    "    <li> Contempt for graphics and their audience, along with a lack of quantitative skills, has deadly consequences for graphical work: over-decorated simplistic designs, tiny data sets, and big lies</li>\n",
    "    \n",
    "</ul>"
   ]
  },
  {
   "cell_type": "markdown",
   "id": "46e809bf-aeaa-4b2a-a71f-8ce0a15a2442",
   "metadata": {},
   "source": [
    "<ul>\n",
    "    <li> <b> Theory of data graphics - Data-Ink and Graphical Redesign </b></li>\n",
    "    <li> Data graphics should draw the viewer's attention to the sense and substance of the data, not to something else</li>\n",
    "    <li> The data graphical form should present the quantitative contents</li>\n",
    "    <li> Statistical graphics are instruments to help people to reason about quantitative information</li>\n",
    "    <li> The fundamental principle of good statistical graphics - Above all else show the data</li>    \n",
    "</ul>"
   ]
  },
  {
   "cell_type": "markdown",
   "id": "f8468359-c200-44b6-b646-1d566add3ea1",
   "metadata": {},
   "source": [
    "<ul>\n",
    "    <li><b> Data-ink </b></li>\n",
    "    <li> A large share of ink on a graphic should present data information, the ink changing as the data change</li>\n",
    "    <li> Data-ink is the non-erasable core of a graphic, the non-redundant in arranged in response to the variation of the numbers</li>\n",
    "    <li> $ Data-ink ratio = \\frac{data-ink}{total ink used to print the graphic}$</li>\n",
    "    <li> Data-ink ratio = proportion of a graphs ink devoted to the non-redundant display of data-information</li>\n",
    "    <li> Data-ink ratio = 1.0 - proportion of a graphic that can be erased without the loss of data information</li>\n",
    "    <li> The larger the share of a graphic's ink devoted to data, the better: Maximise the data-ink ratio, within reason</li>\n",
    "    <li> Every bit of ink on a graph should have a reason</li>\n",
    "    <li> Nearly always that reason should be that the ink presents new information</li>\n",
    "    <li> Other principles of graphic design follow from the idea of maximising data-ink</li>\n",
    "</ul>"
   ]
  },
  {
   "cell_type": "markdown",
   "id": "2266d777-1457-4d01-91d1-82bdb71389dc",
   "metadata": {},
   "source": [
    "<ul>\n",
    "    <li> <b> Two erasing principles </b></li>\n",
    "    <li> Erase non data-ink within reason</li>\n",
    "    <li> Unless redundancy has a worthy purpose erase redundant data ink within reason</li>\n",
    "    <li> Above all else show the data</li>\n",
    "    <li> Maximise the data ink ratio</li>\n",
    "    <li> Erase non data-ink</li>\n",
    "    <li> Erase redundant data-ink</li>\n",
    "    <li> Revise and edit</li>\n",
    "</ul>"
   ]
  },
  {
   "cell_type": "code",
   "execution_count": null,
   "id": "a51a6608-c265-4db6-a0c6-cbd3566d050e",
   "metadata": {},
   "outputs": [],
   "source": []
  }
 ],
 "metadata": {
  "kernelspec": {
   "display_name": "Python 3 (ipykernel)",
   "language": "python",
   "name": "python3"
  },
  "language_info": {
   "codemirror_mode": {
    "name": "ipython",
    "version": 3
   },
   "file_extension": ".py",
   "mimetype": "text/x-python",
   "name": "python",
   "nbconvert_exporter": "python",
   "pygments_lexer": "ipython3",
   "version": "3.11.5"
  }
 },
 "nbformat": 4,
 "nbformat_minor": 5
}
