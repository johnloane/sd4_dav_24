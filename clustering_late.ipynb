{
 "cells": [
  {
   "cell_type": "markdown",
   "id": "66b319c4",
   "metadata": {},
   "source": [
    "<ul>\n",
    "    <li><b>Clustering</b> is a machine learning technique that uses unsupervised learning.</li>\n",
    "    <li> Group unlabelled data into natural clusters </li>\n",
    "    <li> Clustering is an optimization problem </li>\n",
    "    <li> $variability(c) = \\sum_{e \\in c} distance(mean(c), e)^2$</li>\n",
    "    <li> Variance is different from variability, you don't divide by n. This is because in clustering big and bad is worse than small and bad. </li>\n",
    "    <li>$dissimilarity(C) = \\sum_{c \\in C}variability(c)$</li>\n",
    "    <li> Find a C that minimises dissimilarity</li>\n",
    "    <li> In order for this not to end up as each point being a cluster we add a constraint e.g. the clusters have to have some minimum distance between them or constrain the number of clusters</li>\n",
    "    </ul>"
   ]
  },
  {
   "cell_type": "markdown",
   "id": "36dd20ca",
   "metadata": {},
   "source": [
    "<ul>\n",
    "    <li><b>Hieracrhical Clustering </b></li>\n",
    "    <li> Start by assigning each item to a cluster so that if you have N items you now have N clusters, each containing just one item</li>\n",
    "    <li>Find the closest (most similar) pair of clusters and merge them into a single cluster, so that now you have one fewer clusters</li>\n",
    "    <li>Continue until all items are clustered into a single cluster of size N</li>\n",
    "    <li> Agglomerative hierarchical clustering </li>\n",
    "    <li> What do we mean by closest?</li>\n",
    "    <li> Can get different clusters depending linkage metric we use </li>\n",
    "    <li> <b>Single Linkage:</b> consider the distance between one clsuter and another cluster to be equal to the shortest distance from any member of one cluster to any member of another cluster</li>\n",
    "    <li><b>Complete linkage</b>: consider the distance between one cluster and another cluster to be equal to the greatest distance from any member of one cluster to any member of the other cluster</li>\n",
    "    <li><b>Average linkage</b>: consider the distance between one cluster and another cluster to be te average distance from any member of one cluster to any member of the other cluster</li>\n",
    "    <ul>\n",
    "    "
   ]
  },
  {
   "cell_type": "markdown",
   "id": "02c3a929",
   "metadata": {},
   "source": [
    "<table style=\"width:50%\">\n",
    "<tr>\n",
    "    <th>BOS</th>    \n",
    "    <th>NY</th>\n",
    "    <th>CHI</th>\n",
    "    <th>DEN</th>\n",
    "    <th>SF</th>\n",
    "    <th>SEA</th>\n",
    "</tr>\n",
    "<tr>\n",
    "    <th>0</th>    \n",
    "    <th>206</th>\n",
    "    <th>963</th>\n",
    "    <th>1949</th>\n",
    "    <th>3095</th>\n",
    "    <th>2979</th>\n",
    "</tr>\n",
    "    <tr>\n",
    "    <th>0</th>    \n",
    "    <th>0</th>\n",
    "    <th>802</th>\n",
    "    <th>1771</th>\n",
    "    <th>2934</th>\n",
    "    <th>2815</th>\n",
    "</tr>\n",
    "<tr>\n",
    "    <th>0</th>    \n",
    "    <th>0</th>\n",
    "    <th>0</th>\n",
    "    <th>966</th>\n",
    "    <th>1235</th>\n",
    "    <th>1307</th>\n",
    "</tr>\n",
    "<tr>\n",
    "    <th>0</th>    \n",
    "    <th>0</th>\n",
    "    <th>0</th>\n",
    "    <th>0</th>\n",
    "    <th>1235</th>\n",
    "    <th>1307</th>\n",
    "</tr>\n",
    "<tr>\n",
    "    <th>0</th>    \n",
    "    <th>0</th>\n",
    "    <th>0</th>\n",
    "    <th>0</th>\n",
    "    <th>0</th>\n",
    "    <th>808</th>\n",
    "</tr>\n",
    "<tr>\n",
    "    <th>0</th>    \n",
    "    <th>0</th>\n",
    "    <th>0</th>\n",
    "    <th>0</th>\n",
    "    <th>0</th>\n",
    "    <th>0</th>\n",
    "</tr>\n",
    "\n",
    "</table>"
   ]
  },
  {
   "cell_type": "markdown",
   "id": "3ce19f41",
   "metadata": {},
   "source": [
    "Cluster airports based on their distance."
   ]
  },
  {
   "cell_type": "markdown",
   "id": "495e2785-556e-45d7-bf0e-642b3cc8d9df",
   "metadata": {},
   "source": [
    "<b> Airport clusters </b>\n",
    "<ul>\n",
    "    <li> [BOS, NY], [CHI], [DEN], [SF], [SEA]</li>\n",
    "    <li> [BOS, NY, CHI], [DEN], [SF], [SEA]</li>\n",
    "    <li> [BOS, NY, CHI], [DEN], [SF,SEA]</li>\n",
    "    <li> <b>Single</b>[BOS, NY, CHI, DEN], [SF,SEA]</li>\n",
    "    <li> <b>Complete</b>[BOS, NY, CHI], [DEN, SF,SEA]</li>\n",
    "</ul>"
   ]
  },
  {
   "cell_type": "markdown",
   "id": "3a1ab8b8-fbfc-46e5-a5b3-9f16aa6fae09",
   "metadata": {},
   "source": [
    "<ul>\n",
    "    <li>Get history of dendrograms</li>\n",
    "    <li>Deterministic given a linkage metric</li>\n",
    "    <li> Answer might not be option. The algorithm is greedy. Making locally optimial decisions at each point may not lead to a globally optimal solution</li>\n",
    "    <li> Flexible</li>\n",
    "    <li> Really slow complexity $O(n^3)$ basically useless for large datasets. </li>\n",
    "</ul>"
   ]
  },
  {
   "cell_type": "code",
   "execution_count": 7,
   "id": "0dfdd8a9-1612-4781-81ac-6b3ff9cd23c9",
   "metadata": {},
   "outputs": [
    {
     "data": {
      "image/png": "[encoded data removed]",
      "text/plain": [
       "<Figure size 640x480 with 1 Axes>"
      ]
     },
     "metadata": {},
     "output_type": "display_data"
    }
   ],
   "source": [
    "import numpy as np\n",
    "import scipy.cluster.hierarchy as sch\n",
    "data = [0, 4, 6, 30, 39, 52, 56, 58]\n",
    "data_np = np.reshape(data, (len(data), 1))\n",
    "dendrogram = sch.dendrogram(sch.linkage(data_np, method='average'), labels=data)"
   ]
  },
  {
   "cell_type": "code",
   "execution_count": 8,
   "id": "ec7f4807-e2ad-4284-a5cf-e4f85c02ad2c",
   "metadata": {},
   "outputs": [],
   "source": [
    "airport = [\"BOS\", \"NY\", \"CHI\", \"DEN\", \"SF\", \"SEA\"]\n",
    "distance = [[0, 206, 963, 1949, 3095, 2979]\n",
    "            ,[206, 0, 802, 1771, 2934, 2815]\n",
    "            ,[963, 802, 0, 966, 2142, 2013]\n",
    "            ,[1949, 1771, 966, 0, 1235, 1307]\n",
    "            ,[3095, 2934, 2142, 1235, 0, 808]\n",
    "            ,[2979, 2815, 2013, 1307, 808, 0]]"
   ]
  },
  {
   "cell_type": "code",
   "execution_count": 12,
   "id": "e1c41aaf-2ced-4c6a-ae23-887262c0ffcc",
   "metadata": {},
   "outputs": [
    {
     "data": {
      "image/png": "[encoded data removed]",
      "text/plain": [
       "<Figure size 640x480 with 1 Axes>"
      ]
     },
     "metadata": {},
     "output_type": "display_data"
    }
   ],
   "source": [
    "from scipy.spatial.distance import squareform\n",
    "condensed_distance = squareform(distance)\n",
    "dendrogram = sch.dendrogram(sch.linkage(condensed_distance, method='average'), labels=airport)"
   ]
  },
  {
   "cell_type": "code",
   "execution_count": 13,
   "id": "4ffa2920-1d7d-47b2-8372-0cb37552a4ad",
   "metadata": {},
   "outputs": [],
   "source": [
    "import numpy as np\n",
    "import matplotlib.pyplot as plt\n",
    "from sklearn.datasets import make_blobs\n"
   ]
  },
  {
   "cell_type": "code",
   "execution_count": 17,
   "id": "0ed1ab0c-80c0-4d57-a192-24f18bfd7b3e",
   "metadata": {},
   "outputs": [],
   "source": [
    "dataset = make_blobs(n_samples=50, n_features=2, centers=4, cluster_std=1.6, random_state=50)"
   ]
  },
  {
   "cell_type": "code",
   "execution_count": 18,
   "id": "04cfae99-9ce1-4ad9-a1a1-4058b01366cc",
   "metadata": {},
   "outputs": [
    {
     "data": {
      "text/plain": [
       "array([[-0.48428125,  6.1339592 ],\n",
       "       [ 0.11528327, -4.98158692],\n",
       "       [ 0.09417313, -4.05882797],\n",
       "       [-7.556685  , -2.42379349],\n",
       "       [ 0.59860361,  3.34704241],\n",
       "       [-4.73695683, -1.23390307],\n",
       "       [-1.88583355, -0.65794471],\n",
       "       [-1.25918778,  8.42166447],\n",
       "       [-5.46469501, -1.4677575 ],\n",
       "       [-5.21118763, -0.88454091],\n",
       "       [-2.39128542,  9.5902579 ],\n",
       "       [-3.79577694, -3.94197151],\n",
       "       [-0.55798628, -2.70088621],\n",
       "       [-2.84694071, 11.70447814],\n",
       "       [-5.88958899, -1.47219541],\n",
       "       [-0.4497762 ,  4.58102297],\n",
       "       [-6.15966811, -2.13553844],\n",
       "       [-0.10009538,  8.99929345],\n",
       "       [-2.15963524, -7.56230415],\n",
       "       [-3.51874239, -4.48330466],\n",
       "       [-1.32101631, 10.72186833],\n",
       "       [ 5.19455346, -3.85790517],\n",
       "       [ 1.00681205, -5.97364221],\n",
       "       [-1.16539558,  7.39086886],\n",
       "       [-3.25968528,  5.44630828],\n",
       "       [-5.39405829,  0.12384806],\n",
       "       [-3.87922543,  9.49845046],\n",
       "       [-2.31431452,  9.98631399],\n",
       "       [-1.92013725,  4.42303016],\n",
       "       [-2.10577527,  5.12444161],\n",
       "       [-2.24909426,  5.51332975],\n",
       "       [-0.56211354, -4.45962342],\n",
       "       [-2.71698662, 10.37660367],\n",
       "       [-0.34759371, -4.33384716],\n",
       "       [-3.58545672, -1.99099252],\n",
       "       [-0.73829645, -5.2013526 ],\n",
       "       [-2.1545355 ,  5.99856908],\n",
       "       [-1.70400879, -2.88008464],\n",
       "       [-2.51936023,  5.24390715],\n",
       "       [-2.0981081 , 10.33438636],\n",
       "       [-0.76754221, -5.69548201],\n",
       "       [-0.67041938,  8.03267267],\n",
       "       [-1.35671783, -3.72590953],\n",
       "       [-1.61603241,  4.287006  ],\n",
       "       [ 1.64436813, -3.29688399],\n",
       "       [ 0.09021892, -4.24988128],\n",
       "       [ 0.85161314, 11.67201882],\n",
       "       [-7.08089219, -1.2951176 ],\n",
       "       [-3.68488684, -1.49185846],\n",
       "       [-2.41674576,  1.32440828]])"
      ]
     },
     "execution_count": 18,
     "metadata": {},
     "output_type": "execute_result"
    }
   ],
   "source": [
    "points = dataset[0]\n",
    "points"
   ]
  },
  {
   "cell_type": "code",
   "execution_count": 21,
   "id": "59c079c1-4f84-4b1f-a544-c516a855d8a4",
   "metadata": {},
   "outputs": [
    {
     "data": {
      "image/png": "[encoded data removed]",
      "text/plain": [
       "<Figure size 640x480 with 1 Axes>"
      ]
     },
     "metadata": {},
     "output_type": "display_data"
    }
   ],
   "source": [
    "import scipy.cluster.hierarchy as sch\n",
    "from sklearn.cluster import AgglomerativeClustering\n",
    "dendrogram = sch.dendrogram(sch.linkage(points, method='average'))"
   ]
  },
  {
   "cell_type": "code",
   "execution_count": 22,
   "id": "d7760167-d5d6-49e5-8a6a-b1d3ab0d3878",
   "metadata": {},
   "outputs": [
    {
     "data": {
      "text/plain": [
       "<matplotlib.collections.PathCollection at 0x1a0fef9c310>"
      ]
     },
     "execution_count": 22,
     "metadata": {},
     "output_type": "execute_result"
    },
    {
     "data": {
      "image/png": "[encoded data removed]",
      "text/plain": [
       "<Figure size 640x480 with 1 Axes>"
      ]
     },
     "metadata": {},
     "output_type": "display_data"
    }
   ],
   "source": [
    "plt.scatter(dataset[0][:,0], dataset[0][:,1])"
   ]
  },
  {
   "cell_type": "code",
   "execution_count": 27,
   "id": "b2dbe584-38aa-4ffc-bea6-ea87d837ce9c",
   "metadata": {},
   "outputs": [
    {
     "data": {
      "text/plain": [
       "<matplotlib.collections.PathCollection at 0x1a0ff5c1fd0>"
      ]
     },
     "execution_count": 27,
     "metadata": {},
     "output_type": "execute_result"
    },
    {
     "data": {
      "image/png": "[encoded data removed]",
      "text/plain": [
       "<Figure size 640x480 with 1 Axes>"
      ]
     },
     "metadata": {},
     "output_type": "display_data"
    }
   ],
   "source": [
    "hc = AgglomerativeClustering(n_clusters=4, linkage=\"single\", metric=\"euclidean\")\n",
    "y_hc = hc.fit_predict(points)\n",
    "plt.scatter(points[y_hc==0,0], points[y_hc==0,1], s=100, c='cyan')\n",
    "plt.scatter(points[y_hc==1,0], points[y_hc==1,1], s=100, c='yellow')\n",
    "plt.scatter(points[y_hc==2,0], points[y_hc==2,1], s=100, c='red')\n",
    "plt.scatter(points[y_hc==3,0], points[y_hc==3,1], s=100, c='green')"
   ]
  },
  {
   "cell_type": "code",
   "execution_count": 28,
   "id": "cd145631-f918-417e-8461-0bfc40c2e2f8",
   "metadata": {},
   "outputs": [
    {
     "data": {
      "text/html": [
       "<div>\n",
       "<style scoped>\n",
       "    .dataframe tbody tr th:only-of-type {\n",
       "        vertical-align: middle;\n",
       "    }\n",
       "\n",
       "    .dataframe tbody tr th {\n",
       "        vertical-align: top;\n",
       "    }\n",
       "\n",
       "    .dataframe thead th {\n",
       "        text-align: right;\n",
       "    }\n",
       "</style>\n",
       "<table border=\"1\" class=\"dataframe\">\n",
       "  <thead>\n",
       "    <tr style=\"text-align: right;\">\n",
       "      <th></th>\n",
       "      <th>credit_policy</th>\n",
       "      <th>purpose</th>\n",
       "      <th>int_rate</th>\n",
       "      <th>installment</th>\n",
       "      <th>log_annual_inc</th>\n",
       "      <th>dti</th>\n",
       "      <th>fico</th>\n",
       "      <th>days_with_cr_line</th>\n",
       "      <th>revol_bal</th>\n",
       "      <th>revol_util</th>\n",
       "      <th>inq_last_6mths</th>\n",
       "      <th>delinq_2yrs</th>\n",
       "      <th>pub_rec</th>\n",
       "      <th>not_fully_paid</th>\n",
       "    </tr>\n",
       "  </thead>\n",
       "  <tbody>\n",
       "    <tr>\n",
       "      <th>0</th>\n",
       "      <td>1</td>\n",
       "      <td>debt_consolidation</td>\n",
       "      <td>0.1189</td>\n",
       "      <td>829.10</td>\n",
       "      <td>11.350407</td>\n",
       "      <td>19.48</td>\n",
       "      <td>737</td>\n",
       "      <td>5639.958333</td>\n",
       "      <td>28854</td>\n",
       "      <td>52.1</td>\n",
       "      <td>0</td>\n",
       "      <td>0</td>\n",
       "      <td>0</td>\n",
       "      <td>0</td>\n",
       "    </tr>\n",
       "    <tr>\n",
       "      <th>1</th>\n",
       "      <td>1</td>\n",
       "      <td>credit_card</td>\n",
       "      <td>0.1071</td>\n",
       "      <td>228.22</td>\n",
       "      <td>11.082143</td>\n",
       "      <td>14.29</td>\n",
       "      <td>707</td>\n",
       "      <td>2760.000000</td>\n",
       "      <td>33623</td>\n",
       "      <td>76.7</td>\n",
       "      <td>0</td>\n",
       "      <td>0</td>\n",
       "      <td>0</td>\n",
       "      <td>0</td>\n",
       "    </tr>\n",
       "    <tr>\n",
       "      <th>2</th>\n",
       "      <td>1</td>\n",
       "      <td>debt_consolidation</td>\n",
       "      <td>0.1357</td>\n",
       "      <td>366.86</td>\n",
       "      <td>10.373491</td>\n",
       "      <td>11.63</td>\n",
       "      <td>682</td>\n",
       "      <td>4710.000000</td>\n",
       "      <td>3511</td>\n",
       "      <td>25.6</td>\n",
       "      <td>1</td>\n",
       "      <td>0</td>\n",
       "      <td>0</td>\n",
       "      <td>0</td>\n",
       "    </tr>\n",
       "    <tr>\n",
       "      <th>3</th>\n",
       "      <td>1</td>\n",
       "      <td>debt_consolidation</td>\n",
       "      <td>0.1008</td>\n",
       "      <td>162.34</td>\n",
       "      <td>11.350407</td>\n",
       "      <td>8.10</td>\n",
       "      <td>712</td>\n",
       "      <td>2699.958333</td>\n",
       "      <td>33667</td>\n",
       "      <td>73.2</td>\n",
       "      <td>1</td>\n",
       "      <td>0</td>\n",
       "      <td>0</td>\n",
       "      <td>0</td>\n",
       "    </tr>\n",
       "    <tr>\n",
       "      <th>4</th>\n",
       "      <td>1</td>\n",
       "      <td>credit_card</td>\n",
       "      <td>0.1426</td>\n",
       "      <td>102.92</td>\n",
       "      <td>11.299732</td>\n",
       "      <td>14.97</td>\n",
       "      <td>667</td>\n",
       "      <td>4066.000000</td>\n",
       "      <td>4740</td>\n",
       "      <td>39.5</td>\n",
       "      <td>0</td>\n",
       "      <td>1</td>\n",
       "      <td>0</td>\n",
       "      <td>0</td>\n",
       "    </tr>\n",
       "  </tbody>\n",
       "</table>\n",
       "</div>"
      ],
      "text/plain": [
       "   credit_policy             purpose  int_rate  installment  log_annual_inc  \\\n",
       "0              1  debt_consolidation    0.1189       829.10       11.350407   \n",
       "1              1         credit_card    0.1071       228.22       11.082143   \n",
       "2              1  debt_consolidation    0.1357       366.86       10.373491   \n",
       "3              1  debt_consolidation    0.1008       162.34       11.350407   \n",
       "4              1         credit_card    0.1426       102.92       11.299732   \n",
       "\n",
       "     dti  fico  days_with_cr_line  revol_bal  revol_util  inq_last_6mths  \\\n",
       "0  19.48   737        5639.958333      28854        52.1               0   \n",
       "1  14.29   707        2760.000000      33623        76.7               0   \n",
       "2  11.63   682        4710.000000       3511        25.6               1   \n",
       "3   8.10   712        2699.958333      33667        73.2               1   \n",
       "4  14.97   667        4066.000000       4740        39.5               0   \n",
       "\n",
       "   delinq_2yrs  pub_rec  not_fully_paid  \n",
       "0            0        0               0  \n",
       "1            0        0               0  \n",
       "2            0        0               0  \n",
       "3            0        0               0  \n",
       "4            1        0               0  "
      ]
     },
     "execution_count": 28,
     "metadata": {},
     "output_type": "execute_result"
    }
   ],
   "source": [
    "import pandas as pd\n",
    "loan_data = pd.read_csv(\"loan_data3.csv\")\n",
    "loan_data.head()"
   ]
  },
  {
   "cell_type": "code",
   "execution_count": 29,
   "id": "4e2ab152-529e-4bc1-a718-8484b43c811b",
   "metadata": {},
   "outputs": [
    {
     "name": "stdout",
     "output_type": "stream",
     "text": [
      "<class 'pandas.core.frame.DataFrame'>\n",
      "RangeIndex: 9578 entries, 0 to 9577\n",
      "Data columns (total 14 columns):\n",
      " #   Column             Non-Null Count  Dtype  \n",
      "---  ------             --------------  -----  \n",
      " 0   credit_policy      9578 non-null   int64  \n",
      " 1   purpose            9578 non-null   object \n",
      " 2   int_rate           9578 non-null   float64\n",
      " 3   installment        9578 non-null   float64\n",
      " 4   log_annual_inc     9578 non-null   float64\n",
      " 5   dti                9578 non-null   float64\n",
      " 6   fico               9578 non-null   int64  \n",
      " 7   days_with_cr_line  9578 non-null   float64\n",
      " 8   revol_bal          9578 non-null   int64  \n",
      " 9   revol_util         9578 non-null   float64\n",
      " 10  inq_last_6mths     9578 non-null   int64  \n",
      " 11  delinq_2yrs        9578 non-null   int64  \n",
      " 12  pub_rec            9578 non-null   int64  \n",
      " 13  not_fully_paid     9578 non-null   int64  \n",
      "dtypes: float64(6), int64(7), object(1)\n",
      "memory usage: 1.0+ MB\n"
     ]
    }
   ],
   "source": [
    "loan_data.info()"
   ]
  },
  {
   "cell_type": "code",
   "execution_count": 30,
   "id": "9e3378e8-feb7-409e-977a-daf3d730daee",
   "metadata": {},
   "outputs": [],
   "source": [
    "percent_missing = round(100*(loan_data.isnull().sum())/len(loan_data), 2)"
   ]
  },
  {
   "cell_type": "code",
   "execution_count": 31,
   "id": "c9e76dbe-decb-4a63-a205-11483fefa2f0",
   "metadata": {},
   "outputs": [
    {
     "data": {
      "text/plain": [
       "credit_policy        0.0\n",
       "purpose              0.0\n",
       "int_rate             0.0\n",
       "installment          0.0\n",
       "log_annual_inc       0.0\n",
       "dti                  0.0\n",
       "fico                 0.0\n",
       "days_with_cr_line    0.0\n",
       "revol_bal            0.0\n",
       "revol_util           0.0\n",
       "inq_last_6mths       0.0\n",
       "delinq_2yrs          0.0\n",
       "pub_rec              0.0\n",
       "not_fully_paid       0.0\n",
       "dtype: float64"
      ]
     },
     "execution_count": 31,
     "metadata": {},
     "output_type": "execute_result"
    }
   ],
   "source": [
    "percent_missing"
   ]
  },
  {
   "cell_type": "code",
   "execution_count": 32,
   "id": "c10f23b2-7e2f-4cf9-981b-15a082489b92",
   "metadata": {},
   "outputs": [],
   "source": [
    "cleaned_data = loan_data.drop(['purpose', 'not_fully_paid'], axis=1)"
   ]
  },
  {
   "cell_type": "code",
   "execution_count": 33,
   "id": "7f4478d7-c2a6-404d-8b9e-4abec6a0010a",
   "metadata": {},
   "outputs": [
    {
     "name": "stdout",
     "output_type": "stream",
     "text": [
      "<class 'pandas.core.frame.DataFrame'>\n",
      "RangeIndex: 9578 entries, 0 to 9577\n",
      "Data columns (total 12 columns):\n",
      " #   Column             Non-Null Count  Dtype  \n",
      "---  ------             --------------  -----  \n",
      " 0   credit_policy      9578 non-null   int64  \n",
      " 1   int_rate           9578 non-null   float64\n",
      " 2   installment        9578 non-null   float64\n",
      " 3   log_annual_inc     9578 non-null   float64\n",
      " 4   dti                9578 non-null   float64\n",
      " 5   fico               9578 non-null   int64  \n",
      " 6   days_with_cr_line  9578 non-null   float64\n",
      " 7   revol_bal          9578 non-null   int64  \n",
      " 8   revol_util         9578 non-null   float64\n",
      " 9   inq_last_6mths     9578 non-null   int64  \n",
      " 10  delinq_2yrs        9578 non-null   int64  \n",
      " 11  pub_rec            9578 non-null   int64  \n",
      "dtypes: float64(6), int64(6)\n",
      "memory usage: 898.1 KB\n"
     ]
    }
   ],
   "source": [
    "cleaned_data.info()"
   ]
  },
  {
   "cell_type": "code",
   "execution_count": 36,
   "id": "1a802a47-ea03-4d35-a7ba-561e665adba0",
   "metadata": {},
   "outputs": [],
   "source": [
    "import seaborn as sb\n",
    "def show_boxplot(df):\n",
    "    plt.rcParams['figure.figsize'] = [14, 6]\n",
    "    sb.boxplot(data=df, orient='v')\n",
    "    plt.title(\"Outlier Distribution\", fontsize = 16)\n",
    "    plt.ylabel(\"Range\", fontweight=\"bold\")\n",
    "    plt.xlabel(\"Attributes\", fontweight=\"bold\")"
   ]
  },
  {
   "cell_type": "code",
   "execution_count": 37,
   "id": "360368b5-1f21-4116-9d4f-94231d7936c0",
   "metadata": {},
   "outputs": [
    {
     "data": {
      "image/png": "[encoded data removed]",
      "text/plain": [
       "<Figure size 1400x600 with 1 Axes>"
      ]
     },
     "metadata": {},
     "output_type": "display_data"
    }
   ],
   "source": [
    "show_boxplot(cleaned_data)"
   ]
  },
  {
   "cell_type": "code",
   "execution_count": null,
   "id": "db0309db-048b-4cae-a6ce-954b2ead7f50",
   "metadata": {},
   "outputs": [],
   "source": []
  }
 ],
 "metadata": {
  "kernelspec": {
   "display_name": "Python 3 (ipykernel)",
   "language": "python",
   "name": "python3"
  },
  "language_info": {
   "codemirror_mode": {
    "name": "ipython",
    "version": 3
   },
   "file_extension": ".py",
   "mimetype": "text/x-python",
   "name": "python",
   "nbconvert_exporter": "python",
   "pygments_lexer": "ipython3",
   "version": "3.11.5"
  }
 },
 "nbformat": 4,
 "nbformat_minor": 5
}
