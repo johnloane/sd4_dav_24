{
 "cells": [
  {
   "cell_type": "markdown",
   "metadata": {},
   "source": [
    "<b> Assuming that you have covered linear regression </b> "
   ]
  },
  {
   "cell_type": "markdown",
   "metadata": {},
   "source": [
    "# Multiple Linear Regression"
   ]
  },
  {
   "cell_type": "markdown",
   "metadata": {},
   "source": [
    "A delivery service offers the same day delivery for letters, packages and small cargo. You are able to use Google maps to group individual deliveries into one trip. Some trips have more than one delivery. You would like to estimate how long a delivery will take based on:\n",
    "1. Total distance of the trip in kilometers\n",
    "2. The number of deliveries that must be made"
   ]
  },
  {
   "cell_type": "markdown",
   "metadata": {},
   "source": [
    "To conduct the analysis take a random sample of 10 past trips and record:\n",
    "1. Total miles travelled\n",
    "2. Number of deliveries\n",
    "3. Total time in hours"
   ]
  },
  {
   "cell_type": "markdown",
   "metadata": {},
   "source": [
    "<table style=\"width:50%\">\n",
    "<tr>\n",
    "    <th>milesTravelled</th>    \n",
    "    <th>deliveries</th>\n",
    "    <th>time</th>\n",
    "</tr>\n",
    "<tr>\n",
    "    <th>89</th>\n",
    "    <th>4</th>\n",
    "    <th>7</th>\n",
    "</tr>\n",
    "    <tr>\n",
    "    <th>66</th>\n",
    "    <th>1</th>\n",
    "    <th>5.4</th>\n",
    "</tr>\n",
    "<tr>\n",
    "    <th>78</th>\n",
    "    <th>3</th>\n",
    "    <th>6.6</th>\n",
    "</tr>\n",
    "<tr>\n",
    "    <th>111</th>\n",
    "    <th>6</th>\n",
    "    <th>7.4</th>\n",
    "</tr>\n",
    "<tr>\n",
    "    <th>44</th>\n",
    "    <th>1</th>\n",
    "    <th>4.8</th>\n",
    "</tr>\n",
    "<tr>\n",
    "    <th>77</th>\n",
    "    <th>3</th>\n",
    "    <th>6.4</th>\n",
    "</tr>\n",
    "<tr>\n",
    "    <th>80</th>\n",
    "    <th>3</th>\n",
    "    <th>7</th>\n",
    "</tr>\n",
    "<tr>\n",
    "    <th>66</th>\n",
    "    <th>2</th>\n",
    "    <th>5.6</th>\n",
    "</tr>\n",
    "<tr>\n",
    "    <th>109</th>\n",
    "    <th>5</th>\n",
    "    <th>7.3</th>\n",
    "</tr>\n",
    "<tr>\n",
    "    <th>76</th>\n",
    "    <th>3</th>\n",
    "    <th>6.4</th>\n",
    "</tr>\n",
    "</table>"
   ]
  },
  {
   "cell_type": "markdown",
   "metadata": {},
   "source": [
    "In what way does travel time depend on the other two variables?"
   ]
  },
  {
   "cell_type": "markdown",
   "metadata": {},
   "source": [
    "Travel time is the dependent variable and miles travelled and number of deliveries are the independent variables.\n",
    "Dependent variable = Response\n",
    "Independent variable = Predictor"
   ]
  },
  {
   "cell_type": "markdown",
   "metadata": {},
   "source": [
    "New considerations when going from simple to multiple regression\n",
    "<ol>\n",
    "    <li> \n",
    "        Adding more independent variables to a multiple regression does not mean that the regression is better or that it will offer better predictions, in fact it can be worse. This is called OVERFITTING\n",
    "    </li>\n",
    "    <li>\n",
    "        The addition of more independent variables creates more relationships among them. So not only do we need to consider the independent variables and the dependent variable, we also need to consider the relationships between the independent variables themselves. This is called MULTICOLINEARITY\n",
    "    </li>\n",
    "    <li>\n",
    "        The ideal of for all independent variables to be correlated with the dependent variable and NOT with each other\n",
    "    </li>\n",
    "    <li>\n",
    "        Because of overfitting and multicolinearlity, there is a lot of prep-work to before we start multi-regression.\n",
    "        <ul>\n",
    "            <li> Scatterplots </li>\n",
    "            <li> Correlations </li>\n",
    "            <li> Simple regressions between each of the independent variables and the dependent variables to see how they are related\n",
    "        </ul>\n",
    "    </li>\n",
    "</ol>"
   ]
  },
  {
   "cell_type": "markdown",
   "metadata": {},
   "source": [
    "Important to consider which independent variable make the cut.\n",
    "Some independent or sets of independent variables are better at predicting the dependent variable than others. Some contribute nothing."
   ]
  },
  {
   "cell_type": "markdown",
   "metadata": {},
   "source": [
    "Multiple regression model.\n",
    "\\$ \\beta_0 + \\beta_1 x_1 + \\beta_2 x_2 + ... + \\beta_p x_p + \\epsilon $"
   ]
  },
  {
   "cell_type": "markdown",
   "metadata": {},
   "source": [
    "\\$ y = 27 + 9x_1 +12x_2 $"
   ]
  },
  {
   "cell_type": "markdown",
   "metadata": {},
   "source": [
    "<ul>\n",
    "    <li>$x_1$ = capital investment (€1000s)</li>\n",
    "    <li>$x_2$ = marketing expenses (€1000s)</li>\n",
    "    <li>y = predicted sales (€1000's)</li>\n",
    "</ul>"
   ]
  },
  {
   "cell_type": "markdown",
   "metadata": {},
   "source": [
    "Each coefficient (9, 12) is interpreted as the estimate in y corresponding to  a 1 unit change in variable when all other variables are held fixed."
   ]
  },
  {
   "cell_type": "markdown",
   "metadata": {},
   "source": [
    "€9000 is an estimate of the expected increase in sales y, corresponding to a €1000 increase in capital investment x1 when marketing expenditures x2 are kept fixed."
   ]
  },
  {
   "cell_type": "markdown",
   "metadata": {},
   "source": [
    "As the owner you would like to be able to estimate how long a delivery will take based on three factors:\n",
    "<ul>\n",
    "    <li> The total distance of trip in miles</li>\n",
    "    <li> The number of deliveries </li>\n",
    "    <li> The price fuel in € </li>\n",
    "    </ul>"
   ]
  },
  {
   "cell_type": "markdown",
   "metadata": {},
   "source": [
    "Nice exam question.\n",
    "Conducting multiple regression requires the following steps:\n",
    "<ol>\n",
    "    <li> Generate a list of independent and dependent variables</li>\n",
    "    <li> Collect data on the variables </li>\n",
    "    <li> Check for outliers </li>\n",
    "    <li> Check the relationships between each independent variable and the dependent variable using scatterplots and correlations</li>\n",
    "    <li> Check the relationships between the independent variables using scatterplots and correlations </li>\n",
    "    <li> Conduct simple linear regressions for each IV/DV pair</li>\n",
    "    <li>Use the non-redundant independent variables in the analysis to find the best fitting model </li>\n",
    "    <li> Use the best fitting model to make predictions about the dependent variable </li>\n",
    "    </ol>"
   ]
  },
  {
   "cell_type": "markdown",
   "metadata": {},
   "source": [
    "<table style=\"width:60%\">\n",
    "<tr>\n",
    "    <th>miles_travelled</th>    \n",
    "    <th>deliveries</th>\n",
    "    <th>fuel_prices\n",
    "    <th>time</th>\n",
    "</tr>\n",
    "<tr>\n",
    "    <th>89</th>\n",
    "    <th>4</th>\n",
    "    <th>3.84</th>\n",
    "    <th>7</th>\n",
    "</tr>\n",
    "    <tr>\n",
    "    <th>66</th>\n",
    "    <th>1</th>\n",
    "    <th>3.19</th>\n",
    "    <th>5.4</th>\n",
    "</tr>\n",
    "<tr>\n",
    "    <th>78</th>\n",
    "    <th>3</th>\n",
    "    <th>3.78</th>\n",
    "    <th>6.6</th>\n",
    "</tr>\n",
    "<tr>\n",
    "    <th>111</th>\n",
    "    <th>6</th>\n",
    "    <th>3.89</th>\n",
    "    <th>7.4</th>\n",
    "</tr>\n",
    "<tr>\n",
    "    <th>44</th>\n",
    "    <th>1</th>\n",
    "    <th>3.57</th>\n",
    "    <th>4.8</th>\n",
    "</tr>\n",
    "<tr>\n",
    "    <th>77</th>\n",
    "    <th>3</th>\n",
    "    <th>3.57</th>\n",
    "    <th>6.4</th>\n",
    "</tr>\n",
    "<tr>\n",
    "    <th>80</th>\n",
    "    <th>3</th>\n",
    "    <th>3.03</th>\n",
    "    <th>7</th>\n",
    "</tr>\n",
    "<tr>\n",
    "    <th>66</th>\n",
    "    <th>2</th>\n",
    "    <th>3.51</th>\n",
    "    <th>5.6</th>\n",
    "</tr>\n",
    "<tr>\n",
    "    <th>109</th>\n",
    "    <th>5</th>\n",
    "    <th>3.54</th>\n",
    "    <th>7.3</th>\n",
    "</tr>\n",
    "<tr>\n",
    "    <th>76</th>\n",
    "    <th>3</th>\n",
    "    <th>3.25</th>\n",
    "    <th>6.4</th>\n",
    "</tr>\n",
    "</table>"
   ]
  },
  {
   "cell_type": "code",
   "execution_count": 2,
   "metadata": {},
   "outputs": [],
   "source": [
    "miles_travelled = [89, 66, 78, 111, 44, 77, 80, 66, 109, 76]\n",
    "time_taken = [7, 5.4, 6.6, 7.4, 4.8, 6.4, 7, 5.6, 7.3, 6.4]\n"
   ]
  },
  {
   "cell_type": "code",
   "execution_count": 3,
   "metadata": {},
   "outputs": [
    {
     "data": {
      "text/plain": [
       "[<matplotlib.lines.Line2D at 0x1a5064adfd0>]"
      ]
     },
     "execution_count": 3,
     "metadata": {},
     "output_type": "execute_result"
    },
    {
     "data": {
      "image/png": "[encoded data removed]",
      "text/plain": [
       "<Figure size 432x288 with 1 Axes>"
      ]
     },
     "metadata": {
      "needs_background": "light"
     },
     "output_type": "display_data"
    }
   ],
   "source": [
    "from matplotlib import pyplot as plt\n",
    "import numpy as np\n",
    "plt.title(\"miles_travelled v time_taken\")\n",
    "plt.xlabel(\"miles_travelled\")\n",
    "plt.ylabel(\"time_taken\")\n",
    "plt.scatter(miles_travelled, time_taken)\n",
    "plt.plot(np.unique(miles_travelled), np.poly1d(np.polyfit(miles_travelled, time_taken, 1))(np.unique(miles_travelled)))"
   ]
  },
  {
   "cell_type": "code",
   "execution_count": 4,
   "metadata": {},
   "outputs": [],
   "source": [
    "number_deliveries = [4, 1, 3, 6, 1, 3, 3, 2, 5, 3]"
   ]
  },
  {
   "cell_type": "code",
   "execution_count": 5,
   "metadata": {},
   "outputs": [
    {
     "data": {
      "text/plain": [
       "[<matplotlib.lines.Line2D at 0x1a506567430>]"
      ]
     },
     "execution_count": 5,
     "metadata": {},
     "output_type": "execute_result"
    },
    {
     "data": {
      "image/png": "[encoded data removed]",
      "text/plain": [
       "<Figure size 432x288 with 1 Axes>"
      ]
     },
     "metadata": {
      "needs_background": "light"
     },
     "output_type": "display_data"
    }
   ],
   "source": [
    "plt.title(\"number_deliveries v time_taken\")\n",
    "plt.xlabel(\"number_deliveries\")\n",
    "plt.ylabel(\"time_taken\")\n",
    "plt.scatter(number_deliveries, time_taken)\n",
    "plt.plot(np.unique(number_deliveries), np.poly1d(np.polyfit(number_deliveries, time_taken, 1))(np.unique(number_deliveries)))"
   ]
  },
  {
   "cell_type": "code",
   "execution_count": 6,
   "metadata": {},
   "outputs": [],
   "source": [
    "fuel_prices = [3.84, 3.19, 3.78, 3.84, 3.57, 3.57, 3.03, 3.51, 3.54, 3.24]"
   ]
  },
  {
   "cell_type": "code",
   "execution_count": 7,
   "metadata": {},
   "outputs": [
    {
     "data": {
      "text/plain": [
       "[<matplotlib.lines.Line2D at 0x1a5065baf10>]"
      ]
     },
     "execution_count": 7,
     "metadata": {},
     "output_type": "execute_result"
    },
    {
     "data": {
      "image/png": "[encoded data removed]",
      "text/plain": [
       "<Figure size 432x288 with 1 Axes>"
      ]
     },
     "metadata": {
      "needs_background": "light"
     },
     "output_type": "display_data"
    }
   ],
   "source": [
    "plt.title(\"fuel_prices v time_taken\")\n",
    "plt.xlabel(\"fuel_prices\")\n",
    "plt.ylabel(\"time_taken\")\n",
    "plt.scatter(fuel_prices, time_taken)\n",
    "plt.plot(np.unique(fuel_prices), np.poly1d(np.polyfit(fuel_prices, time_taken, 1))(np.unique(fuel_prices)))"
   ]
  },
  {
   "cell_type": "markdown",
   "metadata": {},
   "source": [
    "<b> Scatterplot summary </b>\n",
    "<ul>\n",
    "    <li> travel time appears highly correlated with miles travelled </li>\n",
    "    <li> travel time appears highly correlated with number deliveries </li>\n",
    "    <li> travel time does not appear correlated with fuel prices </li>\n",
    "    <ul>"
   ]
  },
  {
   "cell_type": "markdown",
   "metadata": {},
   "source": [
    "Since fuel prices does not appear correlated with time taken we would not use this variable in the regression. I am going to leave it in for learning purposes. If I wasn't teaching I would throw it away at this point."
   ]
  },
  {
   "cell_type": "markdown",
   "metadata": {},
   "source": [
    "Now we need to look at IV to IV scatterplots"
   ]
  },
  {
   "cell_type": "code",
   "execution_count": 8,
   "metadata": {},
   "outputs": [
    {
     "data": {
      "text/plain": [
       "[<matplotlib.lines.Line2D at 0x1a50661bd00>]"
      ]
     },
     "execution_count": 8,
     "metadata": {},
     "output_type": "execute_result"
    },
    {
     "data": {
      "image/png": "[encoded data removed]",
      "text/plain": [
       "<Figure size 432x288 with 1 Axes>"
      ]
     },
     "metadata": {
      "needs_background": "light"
     },
     "output_type": "display_data"
    }
   ],
   "source": [
    "plt.title(\"miles_travelled v number_deliveries\")\n",
    "plt.xlabel(\"miles_travelled\")\n",
    "plt.ylabel(\"number_deliveries\")\n",
    "plt.scatter(miles_travelled, number_deliveries)\n",
    "plt.plot(np.unique(miles_travelled), np.poly1d(np.polyfit(miles_travelled, number_deliveries, 1))(np.unique(miles_travelled)))"
   ]
  },
  {
   "cell_type": "code",
   "execution_count": 9,
   "metadata": {},
   "outputs": [
    {
     "data": {
      "text/plain": [
       "[<matplotlib.lines.Line2D at 0x1a506678b20>]"
      ]
     },
     "execution_count": 9,
     "metadata": {},
     "output_type": "execute_result"
    },
    {
     "data": {
      "image/png": "[encoded data removed]",
      "text/plain": [
       "<Figure size 432x288 with 1 Axes>"
      ]
     },
     "metadata": {
      "needs_background": "light"
     },
     "output_type": "display_data"
    }
   ],
   "source": [
    "plt.title(\"miles_travelled v fuel_prices\")\n",
    "plt.xlabel(\"miles_travelled\")\n",
    "plt.ylabel(\"fuel_prices\")\n",
    "plt.scatter(miles_travelled, fuel_prices)\n",
    "plt.plot(np.unique(miles_travelled), np.poly1d(np.polyfit(miles_travelled, fuel_prices, 1))(np.unique(miles_travelled)))"
   ]
  },
  {
   "cell_type": "code",
   "execution_count": 10,
   "metadata": {},
   "outputs": [
    {
     "data": {
      "text/plain": [
       "[<matplotlib.lines.Line2D at 0x1a5066d5b50>]"
      ]
     },
     "execution_count": 10,
     "metadata": {},
     "output_type": "execute_result"
    },
    {
     "data": {
      "image/png": "[encoded data removed]",
      "text/plain": [
       "<Figure size 432x288 with 1 Axes>"
      ]
     },
     "metadata": {
      "needs_background": "light"
     },
     "output_type": "display_data"
    }
   ],
   "source": [
    "plt.title(\"number_deliveries v fuel_prices\")\n",
    "plt.xlabel(\"number_deliveries\")\n",
    "plt.ylabel(\"fuel_prices\")\n",
    "plt.scatter(number_deliveries, fuel_prices)\n",
    "plt.plot(np.unique(number_deliveries), np.poly1d(np.polyfit(number_deliveries, fuel_prices, 1))(np.unique(number_deliveries)))"
   ]
  },
  {
   "cell_type": "markdown",
   "metadata": {},
   "source": [
    "<b> IV to IV Scatterplot summary </b>\n",
    "<ol>\n",
    "    <li> number_deliveries is highly correlated to miles_travelled (multi-colinearity </li>\n",
    "    <li> miles_travelled does not appear correlated with fuel_prices </li>\n",
    "    <li> number_deliveries does not appear correlated with fuel_prices </li>\n",
    "</ol>"
   ]
  },
  {
   "cell_type": "markdown",
   "metadata": {},
   "source": [
    "Since the number_deliveries is highly correlated with miles_travelled, I would not use both. They are redundant.\n",
    "For now, we will keep both for learning purposes."
   ]
  },
  {
   "cell_type": "markdown",
   "metadata": {},
   "source": [
    "<b>Correlations </b>"
   ]
  },
  {
   "cell_type": "code",
   "execution_count": 11,
   "metadata": {},
   "outputs": [],
   "source": [
    "from scipy.stats import pearsonr"
   ]
  },
  {
   "cell_type": "code",
   "execution_count": 12,
   "metadata": {},
   "outputs": [
    {
     "name": "stdout",
     "output_type": "stream",
     "text": [
      "(0.9281785008874762, 0.00010667565429896606)\n"
     ]
    }
   ],
   "source": [
    "corr = pearsonr(miles_travelled, time_taken)\n",
    "print(corr)"
   ]
  },
  {
   "cell_type": "markdown",
   "metadata": {},
   "source": [
    "First value is the correlation (very high) in this case. Second value is the p-value. That is probability that this is a random occurrence."
   ]
  },
  {
   "cell_type": "markdown",
   "metadata": {},
   "source": [
    "If the p-value is below 0.05 we say that it is statistically significant. "
   ]
  },
  {
   "cell_type": "code",
   "execution_count": 13,
   "metadata": {},
   "outputs": [
    {
     "name": "stdout",
     "output_type": "stream",
     "text": [
      "(0.9164433964470269, 0.00019260878342962958)\n"
     ]
    }
   ],
   "source": [
    "corr = pearsonr(number_deliveries, time_taken)\n",
    "print(corr)"
   ]
  },
  {
   "cell_type": "code",
   "execution_count": 14,
   "metadata": {},
   "outputs": [
    {
     "name": "stdout",
     "output_type": "stream",
     "text": [
      "(0.2496183502471128, 0.4867301351389118)\n"
     ]
    }
   ],
   "source": [
    "corr = pearsonr(fuel_prices, time_taken)\n",
    "print(corr)"
   ]
  },
  {
   "cell_type": "code",
   "execution_count": 15,
   "metadata": {},
   "outputs": [
    {
     "name": "stdout",
     "output_type": "stream",
     "text": [
      "(0.9558982066200346, 1.5690314407660928e-05)\n"
     ]
    }
   ],
   "source": [
    "corr = pearsonr(miles_travelled, number_deliveries)\n",
    "print(corr)"
   ]
  },
  {
   "cell_type": "code",
   "execution_count": 16,
   "metadata": {},
   "outputs": [
    {
     "name": "stdout",
     "output_type": "stream",
     "text": [
      "(0.33275636821052534, 0.34748050332358754)\n"
     ]
    }
   ],
   "source": [
    "corr = pearsonr(miles_travelled, fuel_prices)\n",
    "print(corr)"
   ]
  },
  {
   "cell_type": "code",
   "execution_count": 17,
   "metadata": {},
   "outputs": [
    {
     "name": "stdout",
     "output_type": "stream",
     "text": [
      "(0.4727916601389726, 0.16759611071547686)\n"
     ]
    }
   ],
   "source": [
    "corr = pearsonr(number_deliveries, fuel_prices)\n",
    "print(corr)"
   ]
  },
  {
   "cell_type": "markdown",
   "metadata": {},
   "source": [
    "Correlation between miles_travelled and number_deliveries is 0.955. Extremely strong. A massive red flag for multicolinearity."
   ]
  },
  {
   "cell_type": "markdown",
   "metadata": {},
   "source": [
    "<b>IV Scatterplots and Pearson correlation </b>\n",
    "<ol>\n",
    "    <li> r = 0.955 p-value = 0.0000156 XXXXXX. Big Problem. These two independent variables should not be included together.</li>\n",
    "    <li> r = 0.332 p-value = 0.347. Very weak correlation. Very good. </li>\n",
    "    <li> r = 0.472 p-value 0.16. Weak correlation. Good. </li>\n",
    "    </ol>"
   ]
  },
  {
   "cell_type": "markdown",
   "metadata": {},
   "source": [
    "Two problematic variables are miles_travelled and number_deliveries. Only include 1 in the regression if not learning."
   ]
  },
  {
   "cell_type": "markdown",
   "metadata": {},
   "source": [
    "<b> Correlation summary </b>\n",
    "<ol>\n",
    "    <li> Correlation analysis confirms what we have seen in the scatterplots. </li>\n",
    "    <li> Redundant multicolinear variables miles_travelled and number_deliveries are highly correlated with each other and therefore are redundant; only one should be used for the multiple regression analysis.</li>\n",
    "    <li> Non-contributing variable. fuel_prices are not correlated with the dependent variable and should be excluded. </li>\n",
    "    </ol>"
   ]
  },
  {
   "cell_type": "markdown",
   "metadata": {},
   "source": [
    "<b> Review and Conclusions </b>"
   ]
  },
  {
   "cell_type": "markdown",
   "metadata": {},
   "source": [
    "<ol>\n",
    "    <li> There is a lot of prep work to do in multi-linear regression </li>\n",
    "    <li> Don't blindly mash buttons </li>\n",
    "    <li> Techniques </li>\n",
    "     <ul>\n",
    "         <li> Scatterplots </li>\n",
    "         <li> Correlation </li>\n",
    "         <li> Individual and group regressions </li>\n",
    "     </ul>\n",
    "             </ol>"
   ]
  },
  {
   "cell_type": "markdown",
   "metadata": {},
   "source": [
    "<ol>\n",
    "    <li> For the sake of learning, we will break the rules and leave all of the independent variables in at first </li>\n",
    "    <li> Then we will remove the problematic variables to see what happens to the regression results </li>\n",
    "    <li> We will also do simple regressions with the dependent variable to use as a baseline </li>\n",
    "    <li> In the end we will get the best model </li>\n",
    "    </ol>\n",
    "    "
   ]
  },
  {
   "cell_type": "markdown",
   "metadata": {},
   "source": [
    "<b> Simple linear regression </b>\n",
    "<ol>\n",
    "    <li> First we will conduct simple linear regression for each indepedent variable separately</li>\n",
    "    <li> We will interpret the results </li>\n",
    "    <li> We will note how results change : </li>\n",
    "    <ul>\n",
    "        <li> coefficents - values, t-statistic, p-value </li>\n",
    "        <li> ANOVA analysis of variance, F-value, p-value </li>\n",
    "        <li> R-squared, R-squared adjusted </li>\n",
    "    </ul>\n",
    "    </ol>\n",
    "        "
   ]
  },
  {
   "cell_type": "code",
   "execution_count": 18,
   "metadata": {},
   "outputs": [],
   "source": [
    "import numpy as np\n",
    "from sklearn.linear_model import LinearRegression"
   ]
  },
  {
   "cell_type": "code",
   "execution_count": 19,
   "metadata": {},
   "outputs": [
    {
     "name": "stdout",
     "output_type": "stream",
     "text": [
      "0.8615153295097224\n"
     ]
    }
   ],
   "source": [
    "model = LinearRegression()\n",
    "miles_travelled = np.array(miles_travelled).reshape(-1, 1)\n",
    "model.fit(miles_travelled, time_taken)\n",
    "r_sq = model.score(miles_travelled, time_taken)\n",
    "print(r_sq)"
   ]
  },
  {
   "cell_type": "markdown",
   "metadata": {},
   "source": [
    "<ul>\n",
    "<li>R-squared is the % of the variation in the dependent variable explained by the independent variable.</li>\n",
    "<li>Standard error (SE) of the regression is the average distance of the points away from the regression line.</li>"
   ]
  },
  {
   "cell_type": "code",
   "execution_count": 20,
   "metadata": {},
   "outputs": [],
   "source": [
    "import statsmodels.api as sm\n"
   ]
  },
  {
   "cell_type": "code",
   "execution_count": 21,
   "metadata": {},
   "outputs": [
    {
     "name": "stdout",
     "output_type": "stream",
     "text": [
      "                            OLS Regression Results                            \n",
      "==============================================================================\n",
      "Dep. Variable:                      y   R-squared:                       0.862\n",
      "Model:                            OLS   Adj. R-squared:                  0.844\n",
      "Method:                 Least Squares   F-statistic:                     49.77\n",
      "Date:                Fri, 09 Feb 2024   Prob (F-statistic):           0.000107\n",
      "Time:                        12:17:56   Log-Likelihood:                -2.3532\n",
      "No. Observations:                  10   AIC:                             8.706\n",
      "Df Residuals:                       8   BIC:                             9.312\n",
      "Df Model:                           1                                         \n",
      "Covariance Type:            nonrobust                                         \n",
      "==============================================================================\n",
      "                 coef    std err          t      P>|t|      [0.025      0.975]\n",
      "------------------------------------------------------------------------------\n",
      "const          3.1856      0.467      6.822      0.000       2.109       4.262\n",
      "x1             0.0403      0.006      7.055      0.000       0.027       0.053\n",
      "==============================================================================\n",
      "Omnibus:                        0.542   Durbin-Watson:                   2.608\n",
      "Prob(Omnibus):                  0.763   Jarque-Bera (JB):                0.554\n",
      "Skew:                           0.370   Prob(JB):                        0.758\n",
      "Kurtosis:                       2.115   Cond. No.                         353.\n",
      "==============================================================================\n",
      "\n",
      "Warnings:\n",
      "[1] Standard Errors assume that the covariance matrix of the errors is correctly specified.\n",
      "0.3423088398195201\n"
     ]
    },
    {
     "name": "stderr",
     "output_type": "stream",
     "text": [
      "C:\\Users\\loanej\\Anaconda3\\lib\\site-packages\\scipy\\stats\\stats.py:1603: UserWarning: kurtosistest only valid for n>=20 ... continuing anyway, n=10\n",
      "  warnings.warn(\"kurtosistest only valid for n>=20 ... continuing \"\n"
     ]
    }
   ],
   "source": [
    "miles_travelled = [89, 66, 78, 111, 44, 77, 80, 66, 109, 76]\n",
    "miles_travelled = sm.add_constant(miles_travelled)\n",
    "model = sm.OLS(time_taken, miles_travelled)\n",
    "result = model.fit()\n",
    "print(result.summary())\n",
    "# Line below is for the standard error\n",
    "print(result.scale**0.5)"
   ]
  },
  {
   "cell_type": "code",
   "execution_count": 22,
   "metadata": {},
   "outputs": [
    {
     "name": "stdout",
     "output_type": "stream",
     "text": [
      "                            OLS Regression Results                            \n",
      "==============================================================================\n",
      "Dep. Variable:                      y   R-squared:                       0.840\n",
      "Model:                            OLS   Adj. R-squared:                  0.820\n",
      "Method:                 Least Squares   F-statistic:                     41.96\n",
      "Date:                Fri, 09 Feb 2024   Prob (F-statistic):           0.000193\n",
      "Time:                        12:17:56   Log-Likelihood:                -3.0794\n",
      "No. Observations:                  10   AIC:                             10.16\n",
      "Df Residuals:                       8   BIC:                             10.76\n",
      "Df Model:                           1                                         \n",
      "Covariance Type:            nonrobust                                         \n",
      "==============================================================================\n",
      "                 coef    std err          t      P>|t|      [0.025      0.975]\n",
      "------------------------------------------------------------------------------\n",
      "const          4.8454      0.265     18.261      0.000       4.234       5.457\n",
      "x1             0.4983      0.077      6.478      0.000       0.321       0.676\n",
      "==============================================================================\n",
      "Omnibus:                        0.391   Durbin-Watson:                   1.970\n",
      "Prob(Omnibus):                  0.822   Jarque-Bera (JB):                0.065\n",
      "Skew:                           0.147   Prob(JB):                        0.968\n",
      "Kurtosis:                       2.736   Cond. No.                         8.41\n",
      "==============================================================================\n",
      "\n",
      "Warnings:\n",
      "[1] Standard Errors assume that the covariance matrix of the errors is correctly specified.\n",
      "0.36809138318567824\n"
     ]
    }
   ],
   "source": [
    "number_deliveries = sm.add_constant(number_deliveries)\n",
    "model = sm.OLS(time_taken, number_deliveries)\n",
    "result = model.fit()\n",
    "print(result.summary())\n",
    "# Line below is for the standard error\n",
    "print(result.scale**0.5)"
   ]
  },
  {
   "cell_type": "code",
   "execution_count": 23,
   "metadata": {},
   "outputs": [
    {
     "name": "stdout",
     "output_type": "stream",
     "text": [
      "                            OLS Regression Results                            \n",
      "==============================================================================\n",
      "Dep. Variable:                      y   R-squared:                       0.062\n",
      "Model:                            OLS   Adj. R-squared:                 -0.055\n",
      "Method:                 Least Squares   F-statistic:                    0.5316\n",
      "Date:                Fri, 09 Feb 2024   Prob (F-statistic):              0.487\n",
      "Time:                        12:17:56   Log-Likelihood:                -11.917\n",
      "No. Observations:                  10   AIC:                             27.83\n",
      "Df Residuals:                       8   BIC:                             28.44\n",
      "Df Model:                           1                                         \n",
      "Covariance Type:            nonrobust                                         \n",
      "==============================================================================\n",
      "                 coef    std err          t      P>|t|      [0.025      0.975]\n",
      "------------------------------------------------------------------------------\n",
      "const          3.6734      3.737      0.983      0.354      -4.943      12.290\n",
      "x1             0.7738      1.061      0.729      0.487      -1.673       3.221\n",
      "==============================================================================\n",
      "Omnibus:                        1.224   Durbin-Watson:                   2.841\n",
      "Prob(Omnibus):                  0.542   Jarque-Bera (JB):                0.784\n",
      "Skew:                          -0.621   Prob(JB):                        0.676\n",
      "Kurtosis:                       2.418   Cond. No.                         50.5\n",
      "==============================================================================\n",
      "\n",
      "Warnings:\n",
      "[1] Standard Errors assume that the covariance matrix of the errors is correctly specified.\n",
      "0.890732016913587\n"
     ]
    }
   ],
   "source": [
    "fuel_prices = sm.add_constant(fuel_prices)\n",
    "model = sm.OLS(time_taken, fuel_prices)\n",
    "result = model.fit()\n",
    "print(result.summary())\n",
    "# Line below is for the standard error\n",
    "print(result.scale**0.5)"
   ]
  },
  {
   "cell_type": "code",
   "execution_count": 24,
   "metadata": {},
   "outputs": [
    {
     "name": "stdout",
     "output_type": "stream",
     "text": [
      "[(89, 4), (66, 1), (78, 3), (111, 6), (44, 1), (77, 3), (80, 3), (66, 2), (109, 5), (76, 3)]\n"
     ]
    }
   ],
   "source": [
    "miles_travelled = [89, 66, 78, 111, 44, 77, 80, 66, 109, 76]\n",
    "number_deliveries = [4, 1, 3, 6, 1, 3, 3, 2, 5, 3]\n",
    "data = list(zip(miles_travelled, number_deliveries))\n",
    "print(data)"
   ]
  },
  {
   "cell_type": "code",
   "execution_count": 25,
   "metadata": {},
   "outputs": [
    {
     "name": "stdout",
     "output_type": "stream",
     "text": [
      "                            OLS Regression Results                            \n",
      "==============================================================================\n",
      "Dep. Variable:                      y   R-squared:                       0.871\n",
      "Model:                            OLS   Adj. R-squared:                  0.835\n",
      "Method:                 Least Squares   F-statistic:                     23.72\n",
      "Date:                Fri, 09 Feb 2024   Prob (F-statistic):           0.000763\n",
      "Time:                        12:17:56   Log-Likelihood:                -1.9830\n",
      "No. Observations:                  10   AIC:                             9.966\n",
      "Df Residuals:                       7   BIC:                             10.87\n",
      "Df Model:                           2                                         \n",
      "Covariance Type:            nonrobust                                         \n",
      "==============================================================================\n",
      "                 coef    std err          t      P>|t|      [0.025      0.975]\n",
      "------------------------------------------------------------------------------\n",
      "const          3.7322      0.887      4.208      0.004       1.635       5.830\n",
      "x1             0.0262      0.020      1.310      0.232      -0.021       0.074\n",
      "x2             0.1840      0.251      0.733      0.487      -0.409       0.777\n",
      "==============================================================================\n",
      "Omnibus:                        1.340   Durbin-Watson:                   2.402\n",
      "Prob(Omnibus):                  0.512   Jarque-Bera (JB):                0.867\n",
      "Skew:                           0.654   Prob(JB):                        0.648\n",
      "Kurtosis:                       2.393   Cond. No.                         670.\n",
      "==============================================================================\n",
      "\n",
      "Warnings:\n",
      "[1] Standard Errors assume that the covariance matrix of the errors is correctly specified.\n",
      "0.3526424259803893\n"
     ]
    }
   ],
   "source": [
    "data = sm.add_constant(data)\n",
    "model = sm.OLS(time_taken, data)\n",
    "result = model.fit()\n",
    "print(result.summary())\n",
    "# Line below is for the standard error\n",
    "print(result.scale**0.5)"
   ]
  },
  {
   "cell_type": "code",
   "execution_count": 26,
   "metadata": {},
   "outputs": [
    {
     "name": "stdout",
     "output_type": "stream",
     "text": [
      "[(89, 3.84), (66, 3.19), (78, 3.78), (111, 3.84), (44, 3.57), (77, 3.57), (80, 3.03), (66, 3.51), (109, 3.54), (76, 3.24)]\n"
     ]
    }
   ],
   "source": [
    "miles_travelled = [89, 66, 78, 111, 44, 77, 80, 66, 109, 76]\n",
    "fuel_prices = [3.84, 3.19, 3.78, 3.84, 3.57, 3.57, 3.03, 3.51, 3.54, 3.24]\n",
    "data = list(zip(miles_travelled, fuel_prices))\n",
    "print(data)"
   ]
  },
  {
   "cell_type": "code",
   "execution_count": 27,
   "metadata": {},
   "outputs": [
    {
     "name": "stdout",
     "output_type": "stream",
     "text": [
      "                            OLS Regression Results                            \n",
      "==============================================================================\n",
      "Dep. Variable:                      y   R-squared:                       0.865\n",
      "Model:                            OLS   Adj. R-squared:                  0.827\n",
      "Method:                 Least Squares   F-statistic:                     22.51\n",
      "Date:                Fri, 09 Feb 2024   Prob (F-statistic):           0.000893\n",
      "Time:                        12:17:56   Log-Likelihood:                -2.2087\n",
      "No. Observations:                  10   AIC:                             10.42\n",
      "Df Residuals:                       7   BIC:                             11.33\n",
      "Df Model:                           2                                         \n",
      "Covariance Type:            nonrobust                                         \n",
      "==============================================================================\n",
      "                 coef    std err          t      P>|t|      [0.025      0.975]\n",
      "------------------------------------------------------------------------------\n",
      "const          3.8340      1.513      2.534      0.039       0.256       7.412\n",
      "x1             0.0412      0.006      6.464      0.000       0.026       0.056\n",
      "x2            -0.2065      0.456     -0.453      0.664      -1.284       0.871\n",
      "==============================================================================\n",
      "Omnibus:                        0.742   Durbin-Watson:                   2.736\n",
      "Prob(Omnibus):                  0.690   Jarque-Bera (JB):                0.567\n",
      "Skew:                           0.049   Prob(JB):                        0.753\n",
      "Kurtosis:                       1.838   Cond. No.                     1.13e+03\n",
      "==============================================================================\n",
      "\n",
      "Warnings:\n",
      "[1] Standard Errors assume that the covariance matrix of the errors is correctly specified.\n",
      "[2] The condition number is large, 1.13e+03. This might indicate that there are\n",
      "strong multicollinearity or other numerical problems.\n",
      "0.3606919690088511\n"
     ]
    }
   ],
   "source": [
    "data = sm.add_constant(data)\n",
    "model = sm.OLS(time_taken, data)\n",
    "result = model.fit()\n",
    "print(result.summary())\n",
    "# Line below is for the standard error\n",
    "print(result.scale**0.5)"
   ]
  },
  {
   "cell_type": "code",
   "execution_count": 28,
   "metadata": {},
   "outputs": [
    {
     "name": "stdout",
     "output_type": "stream",
     "text": [
      "[(4, 3.84), (1, 3.19), (3, 3.78), (6, 3.84), (1, 3.57), (3, 3.57), (3, 3.03), (2, 3.51), (5, 3.54), (3, 3.24)]\n"
     ]
    }
   ],
   "source": [
    "number_deliveries = [4, 1, 3, 6, 1, 3, 3, 2, 5, 3]\n",
    "fuel_prices = [3.84, 3.19, 3.78, 3.84, 3.57, 3.57, 3.03, 3.51, 3.54, 3.24]\n",
    "data = list(zip(number_deliveries, fuel_prices))\n",
    "print(data)"
   ]
  },
  {
   "cell_type": "code",
   "execution_count": 29,
   "metadata": {},
   "outputs": [
    {
     "name": "stdout",
     "output_type": "stream",
     "text": [
      "                            OLS Regression Results                            \n",
      "==============================================================================\n",
      "Dep. Variable:                      y   R-squared:                       0.883\n",
      "Model:                            OLS   Adj. R-squared:                  0.850\n",
      "Method:                 Least Squares   F-statistic:                     26.50\n",
      "Date:                Fri, 09 Feb 2024   Prob (F-statistic):           0.000543\n",
      "Time:                        12:17:56   Log-Likelihood:                -1.4969\n",
      "No. Observations:                  10   AIC:                             8.994\n",
      "Df Residuals:                       7   BIC:                             9.902\n",
      "Df Model:                           2                                         \n",
      "Covariance Type:            nonrobust                                         \n",
      "==============================================================================\n",
      "                 coef    std err          t      P>|t|      [0.025      0.975]\n",
      "------------------------------------------------------------------------------\n",
      "const          7.2313      1.498      4.829      0.002       3.690      10.772\n",
      "x1             0.5591      0.080      7.018      0.000       0.371       0.747\n",
      "x2            -0.7332      0.454     -1.614      0.150      -1.807       0.341\n",
      "==============================================================================\n",
      "Omnibus:                        1.269   Durbin-Watson:                   2.068\n",
      "Prob(Omnibus):                  0.530   Jarque-Bera (JB):                0.762\n",
      "Skew:                           0.275   Prob(JB):                        0.683\n",
      "Kurtosis:                       1.764   Cond. No.                         72.4\n",
      "==============================================================================\n",
      "\n",
      "Warnings:\n",
      "[1] Standard Errors assume that the covariance matrix of the errors is correctly specified.\n",
      "0.3359096523296127\n"
     ]
    }
   ],
   "source": [
    "data = sm.add_constant(data)\n",
    "model = sm.OLS(time_taken, data)\n",
    "result = model.fit()\n",
    "print(result.summary())\n",
    "# Line below is for the standard error\n",
    "print(result.scale**0.5)"
   ]
  },
  {
   "cell_type": "markdown",
   "metadata": {},
   "source": [
    "Consider the model above. If deliveries are held constant, then travel_time us expected to decrease by 0.7332 of an hour for every additonal dollar increase in fuel_prices. This makes no sense. The p-value of 0.15 (>>0.05) indicates that this is going to be an issue."
   ]
  },
  {
   "cell_type": "markdown",
   "metadata": {},
   "source": [
    "<b>How do we decide which is the best model?</b>\n",
    "Consider the following factors:\n",
    "<ol>\n",
    "    <li> $R^2$ adjusted </li>\n",
    "    <li> F-statistic and its p-value, is the model significant? </li>\n",
    "    <li> Standard error as small as possible </li>\n",
    "    <li> AIC and BIC as small as possible> </li>\n",
    "    <li> Cond No as small as possible </li>\n",
    "    <li> Consider model parameters. What are the p-values? Are they significant?</li>\n",
    "    <li> Consider the model. Does it make sense for the problem? </li>\n",
    "    <li> All else being equal we want the simplest model </li>\n",
    "<ol>\n"
   ]
  },
  {
   "cell_type": "markdown",
   "metadata": {},
   "source": [
    "This could be a good exam question. Give a bunch of different models and their ANOVA and ask you to interpret and select the best model."
   ]
  },
  {
   "cell_type": "code",
   "execution_count": 30,
   "metadata": {},
   "outputs": [
    {
     "name": "stdout",
     "output_type": "stream",
     "text": [
      "[(89, 4, 3.84), (66, 1, 3.19), (78, 3, 3.78), (111, 6, 3.84), (44, 1, 3.57), (77, 3, 3.57), (80, 3, 3.03), (66, 2, 3.51), (109, 5, 3.54), (76, 3, 3.24)]\n"
     ]
    }
   ],
   "source": [
    "all_data = list(zip(miles_travelled, number_deliveries, fuel_prices))\n",
    "print(all_data)"
   ]
  },
  {
   "cell_type": "code",
   "execution_count": 31,
   "metadata": {},
   "outputs": [
    {
     "name": "stdout",
     "output_type": "stream",
     "text": [
      "                            OLS Regression Results                            \n",
      "==============================================================================\n",
      "Dep. Variable:                      y   R-squared:                       0.892\n",
      "Model:                            OLS   Adj. R-squared:                  0.838\n",
      "Method:                 Least Squares   F-statistic:                     16.48\n",
      "Date:                Fri, 09 Feb 2024   Prob (F-statistic):            0.00266\n",
      "Time:                        12:17:57   Log-Likelihood:                -1.1212\n",
      "No. Observations:                  10   AIC:                             10.24\n",
      "Df Residuals:                       6   BIC:                             11.45\n",
      "Df Model:                           3                                         \n",
      "Covariance Type:            nonrobust                                         \n",
      "==============================================================================\n",
      "                 coef    std err          t      P>|t|      [0.025      0.975]\n",
      "------------------------------------------------------------------------------\n",
      "const          6.0364      2.340      2.579      0.042       0.310      11.763\n",
      "x1             0.0153      0.022      0.684      0.519      -0.039       0.070\n",
      "x2             0.3619      0.300      1.207      0.273      -0.372       1.095\n",
      "x3            -0.5655      0.532     -1.062      0.329      -1.868       0.737\n",
      "==============================================================================\n",
      "Omnibus:                        2.928   Durbin-Watson:                   2.434\n",
      "Prob(Omnibus):                  0.231   Jarque-Bera (JB):                1.180\n",
      "Skew:                           0.426   Prob(JB):                        0.554\n",
      "Kurtosis:                       1.550   Cond. No.                     1.78e+03\n",
      "==============================================================================\n",
      "\n",
      "Warnings:\n",
      "[1] Standard Errors assume that the covariance matrix of the errors is correctly specified.\n",
      "[2] The condition number is large, 1.78e+03. This might indicate that there are\n",
      "strong multicollinearity or other numerical problems.\n",
      "0.3494453779421422\n"
     ]
    }
   ],
   "source": [
    "all_data = sm.add_constant(all_data)\n",
    "model = sm.OLS(time_taken, all_data)\n",
    "result = model.fit()\n",
    "print(result.summary())\n",
    "# Line below is for the standard error\n",
    "print(result.scale**0.5)"
   ]
  },
  {
   "cell_type": "markdown",
   "metadata": {},
   "source": [
    "<b>Data types </b>\n",
    "<b> Interval Data </b>\n",
    "<ol>\n",
    "    <li> Temperature </li>\n",
    "    <li> Money </li>\n",
    "    <li> Weight of something </li>\n",
    "</ol>"
   ]
  },
  {
   "cell_type": "markdown",
   "metadata": {},
   "source": [
    "<b> Categorical Data </b>\n",
    "<ol>\n",
    "    <li> Week days </li>\n",
    "    <li> Male/Female </li>\n",
    "    <li> Yes/No </li>\n",
    "    <li> Dundalk/Drogheda </li>\n",
    "</ol>"
   ]
  },
  {
   "cell_type": "markdown",
   "metadata": {},
   "source": [
    "You are an analyst for a small company that developes house price models for auctioneers. To generate the data you use publicly available daat such as list price, square footage, number of bedrooms, number of bathrooms. We are interested in another question: Is the local secondary school excellent (the highest rating) and how is that related to house prices?"
   ]
  },
  {
   "cell_type": "markdown",
   "metadata": {},
   "source": [
    "Secondary school rating is not quantatitive it is qualitative (categorical). For each home the secondary school is either excellent or not."
   ]
  },
  {
   "cell_type": "markdown",
   "metadata": {},
   "source": [
    "<b> Home Price Data </b>\n",
    "<table style=\"width:70%\">\n",
    "<tr>\n",
    "    <th>price 1000s (y)</th>    \n",
    "    <th>sqft ($x_1$)</th>\n",
    "    <th>excellentSS ($x_2$)</th>\n",
    "</tr>\n",
    "<tr>\n",
    "    <th>145</th>\n",
    "    <th>1872</th>\n",
    "    <th>0</th>\n",
    "</tr>\n",
    "    <tr>\n",
    "    <th>69.9</th>\n",
    "    <th>1454</th>\n",
    "    <th>0</th>\n",
    "</tr>\n",
    "<tr>\n",
    "    <th>315</th>\n",
    "    <th>4104</th>\n",
    "    <th>1</th>\n",
    "</tr>\n",
    "<tr>\n",
    "    <th>144.9</th>\n",
    "    <th>1524</th>\n",
    "    <th>0</th>\n",
    "</tr>\n",
    "<tr>\n",
    "    <th>134.9</th>\n",
    "    <th>1297</th>\n",
    "    <th>0</th>\n",
    "</tr>\n",
    "<tr>\n",
    "    <th>369</th>\n",
    "    <th>3278</th>\n",
    "    <th>1</th>\n",
    "</tr>\n",
    "<tr>\n",
    "    <th>95</th>\n",
    "    <th>1192</th>\n",
    "    <th>0</th>\n",
    "</tr>\n",
    "<tr>\n",
    "    <th>228.9</th>\n",
    "    <th>2252</th>\n",
    "    <th>1</th>\n",
    "</tr>\n",
    "<tr>\n",
    "    <th>149</th>\n",
    "    <th>1620</th>\n",
    "    <th>0</th>\n",
    "</tr>\n",
    "<tr>\n",
    "    <th>295</th>\n",
    "    <th>2466</th>\n",
    "    <th>1</th>\n",
    "</tr>\n",
    "    <tr>\n",
    "    <th>388.5</th>\n",
    "    <th>3188</th>\n",
    "    <th>1</th>\n",
    "</tr>\n",
    "    <tr>\n",
    "    <th>75</th>\n",
    "    <th>1061</th>\n",
    "    <th>0</th>\n",
    "</tr>\n",
    "    <tr>\n",
    "    <th>130</th>\n",
    "    <th>1195</th>\n",
    "    <th>0</th>\n",
    "</tr>\n",
    "    <tr>\n",
    "    <th>174</th>\n",
    "    <th>1552</th>\n",
    "    <th>1</th>\n",
    "</tr>\n",
    "    <tr>\n",
    "    <th>334.9</th>\n",
    "    <th>2901</th>\n",
    "    <th>1</th>\n",
    "</tr>\n",
    "</table>"
   ]
  },
  {
   "cell_type": "code",
   "execution_count": 32,
   "metadata": {},
   "outputs": [
    {
     "name": "stdout",
     "output_type": "stream",
     "text": [
      "15\n"
     ]
    }
   ],
   "source": [
    "prices = [145, 69.9, 315, 144.9, 134.9, 369, 95, 228.9, 149, 295, 388.5, 75, 130, 174, 334.9]\n",
    "sqft = [1872, 1954, 4104, 1524, 1297, 3278, 1192, 2252, 1620, 2466, 3188, 1061, 1195, 1552, 2901]\n",
    "excellent = [0,0,1,0,0,1,0,1,0,1,1,0,0,1,1]\n",
    "print(len(excellent))"
   ]
  },
  {
   "cell_type": "code",
   "execution_count": 33,
   "metadata": {},
   "outputs": [],
   "source": [
    "legend_names = [\"Not Excellent\", \"Excellent\"]\n"
   ]
  },
  {
   "cell_type": "code",
   "execution_count": 34,
   "metadata": {},
   "outputs": [
    {
     "data": {
      "text/plain": [
       "<matplotlib.legend.Legend at 0x1a50a3c74f0>"
      ]
     },
     "execution_count": 34,
     "metadata": {},
     "output_type": "execute_result"
    },
    {
     "data": {
      "image/png": "[encoded data removed]",
      "text/plain": [
       "<Figure size 432x288 with 1 Axes>"
      ]
     },
     "metadata": {
      "needs_background": "light"
     },
     "output_type": "display_data"
    }
   ],
   "source": [
    "plt.title(\"sqft vs prices\")\n",
    "plt.xlabel(\"sqft\")\n",
    "plt.ylabel(\"price\")\n",
    "scatter = plt.scatter(sqft, prices, c = excellent)\n",
    "plt.legend(handles = scatter.legend_elements()[0], labels=legend_names, title=\"School\")"
   ]
  },
  {
   "cell_type": "markdown",
   "metadata": {},
   "source": [
    "Two patterns:\n",
    "<ul>\n",
    "    <li> Data is linear </li>\n",
    "    <li> Not excellent SS are in the lower left, excellent in upper right </li>\n",
    "</ul>"
   ]
  },
  {
   "cell_type": "markdown",
   "metadata": {},
   "source": [
    "$ E(y) = \\beta_0 + \\beta_1x_1 + \\beta_2x_2 $"
   ]
  },
  {
   "cell_type": "markdown",
   "metadata": {},
   "source": [
    "What does the equation look like the secondary school is not excellent?\n",
    "$ E(y) = \\beta_0 + \\beta_1x_1$"
   ]
  },
  {
   "cell_type": "markdown",
   "metadata": {},
   "source": [
    "What does the equation look like if the secondary school is excellent?\n",
    "$ E(y) = \\beta_0 + \\beta_1x_1 + \\beta_21 $"
   ]
  },
  {
   "cell_type": "code",
   "execution_count": 35,
   "metadata": {},
   "outputs": [
    {
     "name": "stdout",
     "output_type": "stream",
     "text": [
      "[(1872, 0), (1954, 0), (4104, 1), (1524, 0), (1297, 0), (3278, 1), (1192, 0), (2252, 1), (1620, 0), (2466, 1), (3188, 1), (1061, 0), (1195, 0), (1552, 1), (2901, 1)]\n"
     ]
    }
   ],
   "source": [
    "all_data = list(zip(sqft, excellent))\n",
    "print(all_data)"
   ]
  },
  {
   "cell_type": "code",
   "execution_count": 36,
   "metadata": {},
   "outputs": [
    {
     "name": "stdout",
     "output_type": "stream",
     "text": [
      "                            OLS Regression Results                            \n",
      "==============================================================================\n",
      "Dep. Variable:                      y   R-squared:                       0.857\n",
      "Model:                            OLS   Adj. R-squared:                  0.833\n",
      "Method:                 Least Squares   F-statistic:                     35.94\n",
      "Date:                Fri, 09 Feb 2024   Prob (F-statistic):           8.57e-06\n",
      "Time:                        12:18:33   Log-Likelihood:                -76.595\n",
      "No. Observations:                  15   AIC:                             159.2\n",
      "Df Residuals:                      12   BIC:                             161.3\n",
      "Df Model:                           2                                         \n",
      "Covariance Type:            nonrobust                                         \n",
      "==============================================================================\n",
      "                 coef    std err          t      P>|t|      [0.025      0.975]\n",
      "------------------------------------------------------------------------------\n",
      "const         27.0749     33.690      0.804      0.437     -46.329     100.479\n",
      "x1             0.0621      0.020      3.054      0.010       0.018       0.106\n",
      "x2            98.6479     35.963      2.743      0.018      20.291     177.005\n",
      "==============================================================================\n",
      "Omnibus:                        1.194   Durbin-Watson:                   1.853\n",
      "Prob(Omnibus):                  0.551   Jarque-Bera (JB):                1.018\n",
      "Skew:                          -0.520   Prob(JB):                        0.601\n",
      "Kurtosis:                       2.260   Cond. No.                     8.35e+03\n",
      "==============================================================================\n",
      "\n",
      "Warnings:\n",
      "[1] Standard Errors assume that the covariance matrix of the errors is correctly specified.\n",
      "[2] The condition number is large, 8.35e+03. This might indicate that there are\n",
      "strong multicollinearity or other numerical problems.\n",
      "44.65395074137937\n"
     ]
    },
    {
     "name": "stderr",
     "output_type": "stream",
     "text": [
      "C:\\Users\\loanej\\Anaconda3\\lib\\site-packages\\scipy\\stats\\stats.py:1603: UserWarning: kurtosistest only valid for n>=20 ... continuing anyway, n=15\n",
      "  warnings.warn(\"kurtosistest only valid for n>=20 ... continuing \"\n"
     ]
    }
   ],
   "source": [
    "all_data = sm.add_constant(all_data)\n",
    "model = sm.OLS(prices, all_data)\n",
    "result = model.fit()\n",
    "print(result.summary())\n",
    "# Line below is for the standard error\n",
    "print(result.scale**0.5)"
   ]
  },
  {
   "cell_type": "markdown",
   "metadata": {},
   "source": [
    "<b> Coefficents </b>\n",
    "<ul>\n",
    "    <li> Every square foot is related to an increase of 0.0621(1000) or €62.10 increase in price </li>\n",
    "    <li> On average, a home in an area with an excellent SS is related to a €98,647.90 high price than not having an excellent SS </li>\n",
    "<ul>"
   ]
  },
  {
   "cell_type": "code",
   "execution_count": 37,
   "metadata": {},
   "outputs": [],
   "source": [
    "price = [89, 95, 110, 125, 130, 131, 136, 136, 137, 137, 140, 140, 145, 147, 147, 148, 150, 153, 153, 154, 156, 158, 160, 160, 160, 162, 162, 164, 164, 166, 168, 169, 170, 170, 171, 173, 173, 174, 175, 175, 175, 177, 178, 178, 178, 182, 184, 184, 184, 185, 186, 186, 187, 188, 189, 189, 190, 190, 190, 192, 193, 194, 195, 196, 200, 201, 203, 203, 207, 210, 216, 217, 218, 225, 230, 233, 234, 237, 245, 250, 253, 256, 260, 286, 289, 290, 299, 307, 310, 312, 322, 332, 371, 377, 383, 387, 398, 404, 412, 450]\n",
    "\n",
    "sqft = [1097, 1505, 1170, 1605, 1787, 2114, 2288, 1731, 2546, 2043, 2455, 2036, 2131, 2641, 2604, 1733, 1683, 2162, 1978, 2112, 2819, 2370, 2515, 2267, 1796, 2771, 2367, 2753, 1980, 2150, 2488, 2274, 2299, 1936, 2414, 2162, 1770, 2007, 2558, 2053, 1764, 2643, 2719, 2692, 1826, 2357, 2647, 2601, 1895, 1943, 2466, 2289, 2248, 2326, 2804, 2686, 2578, 2415, 1845, 2504, 1944, 1814, 2536, 2591, 2902, 1784, 2465, 2341, 2496, 2878, 2573, 2830, 2094, 2027, 2906, 2456, 2409, 3018, 3401, 2953, 2994, 2957, 3312, 2918, 3601, 3213, 2908, 3643, 3485, 3041, 3109, 3207, 3052, 3124, 3076, 3032, 3787, 3073, 3681, 3860]\n",
    "\n",
    "excellent = [0, 0, 0, 0, 1, 0, 0, 0, 0, 0, 0, 0, 0, 0, 0, 0, 1, 0, 0, 0, 0, 0, 0, 0, 0, 0, 0, 0, 0, 0, 0, 0, 1, 1, 0, 1, 1, 0, 1, 1, 0, 1, 0, 0, 0, 0, 1, 1, 0, 0, 1, 1, 1, 1, 1, 1, 1, 1, 1, 1, 1, 1, 1, 1, 0, 0, 1, 1, 1, 0, 1, 1, 1, 1, 1, 1, 1, 1, 1, 1, 0, 0, 0, 1, 1, 1, 0, 1, 1, 1, 1, 1, 1, 1, 1, 0, 1, 1, 1, 1]\n",
    "\n",
    "region = [\"East\", \"East\", \"West\", \"South\", \"West\", \"South\", \"North\", \"West\", \"North\", \"West\", \"South\", \"South\", \"South\", \"North\", \"West\", \"North\", \"West\", \"South\", \"East\", \"North\", \"North\", \"East\", \"North\", \"South\", \"West\", \"West\", \"North\", \"East\", \"South\", \"East\", \"North\", \"South\", \"West\", \"South\", \"North\", \"West\", \"East\", \"North\", \"North\", \"East\", \"West\", \"West\", \"North\", \"East\", \"West\", \"South\", \"West\", \"South\", \"East\", \"South\", \"North\", \"East\", \"West\", \"South\", \"South\", \"West\", \"East\", \"East\", \"North\", \"West\", \"East\", \"South\", \"East\", \"West\", \"East\", \"East\", \"West\", \"East\", \"South\", \"East\", \"West\", \"South\", \"North\", \"South\", \"North\", \"South\", \"North\", \"East\", \"East\", \"East\", \"West\", \"North\", \"West\", \"West\", \"South\", \"South\", \"East\", \"East\", \"North\", \"South\", \"East\", \"West\", \"West\", \"West\", \"North\", \"South\", \"West\", \"South\", \"North\", \"North\"\n",
    "]\n"
   ]
  },
  {
   "cell_type": "code",
   "execution_count": 39,
   "metadata": {},
   "outputs": [
    {
     "name": "stdout",
     "output_type": "stream",
     "text": [
      "100\n",
      "100\n",
      "100\n",
      "100\n"
     ]
    }
   ],
   "source": [
    "print(len(price))\n",
    "print(len(sqft))\n",
    "print(len(excellent))\n",
    "print(len(region))"
   ]
  },
  {
   "cell_type": "code",
   "execution_count": 44,
   "metadata": {},
   "outputs": [],
   "source": [
    "ne_sqft = []\n",
    "ne_price = []\n",
    "e_sqft = []\n",
    "e_price = []\n",
    "for i in range(len(excellent)):\n",
    "    if excellent[i] == 0:\n",
    "        ne_sqft.append(sqft[i])\n",
    "        ne_price.append(price[i])\n",
    "    else:\n",
    "        e_sqft.append(sqft[i])\n",
    "        e_price.append(price[i])"
   ]
  },
  {
   "cell_type": "code",
   "execution_count": 46,
   "metadata": {},
   "outputs": [
    {
     "data": {
      "text/plain": [
       "<matplotlib.legend.Legend at 0x1a50bb808b0>"
      ]
     },
     "execution_count": 46,
     "metadata": {},
     "output_type": "execute_result"
    },
    {
     "data": {
      "image/png": "[encoded data removed]",
      "text/plain": [
       "<Figure size 432x288 with 1 Axes>"
      ]
     },
     "metadata": {
      "needs_background": "light"
     },
     "output_type": "display_data"
    }
   ],
   "source": [
    "plt.title(\"sqft vs price\")\n",
    "plt.xlabel(\"sqft\")\n",
    "plt.ylabel(\"price\")\n",
    "scatter = plt.scatter(sqft, price, c = excellent)\n",
    "plt.plot(np.unique(ne_sqft), np.poly1d(np.polyfit(ne_sqft, ne_price, 1))(np.unique(ne_sqft)))\n",
    "plt.plot(np.unique(e_sqft), np.poly1d(np.polyfit(e_sqft, e_price, 1))(np.unique(e_sqft)))\n",
    "plt.legend(handles = scatter.legend_elements()[0], labels=legend_names, title=\"School\")"
   ]
  },
  {
   "cell_type": "code",
   "execution_count": 49,
   "metadata": {},
   "outputs": [
    {
     "name": "stdout",
     "output_type": "stream",
     "text": [
      "[0, 0, 3, 2, 3, 2, 1, 3, 1, 3, 2, 2, 2, 1, 3, 1, 3, 2, 0, 1, 1, 0, 1, 2, 3, 3, 1, 0, 2, 0, 1, 2, 3, 2, 1, 3, 0, 1, 1, 0, 3, 3, 1, 0, 3, 2, 3, 2, 0, 2, 1, 0, 3, 2, 2, 3, 0, 0, 1, 3, 0, 2, 0, 3, 0, 0, 3, 0, 2, 0, 3, 2, 1, 2, 1, 2, 1, 0, 0, 0, 3, 1, 3, 3, 2, 2, 0, 0, 1, 2, 0, 3, 3, 3, 1, 2, 3, 2, 1, 1]\n"
     ]
    }
   ],
   "source": [
    "# Want to code East-> 0, North -> 1, South -> 2, West -> 3\n",
    "labels = []\n",
    "for i in range(len(region)):\n",
    "    if region[i] == \"East\":\n",
    "        labels.append(0)\n",
    "    elif region[i] == \"North\":\n",
    "        labels.append(1)\n",
    "    elif region[i] == \"South\":\n",
    "        labels.append(2)\n",
    "    else:\n",
    "        labels.append(3)\n",
    "print(labels)"
   ]
  },
  {
   "cell_type": "code",
   "execution_count": 56,
   "metadata": {},
   "outputs": [],
   "source": [
    "# Get sqft and price for each region\n",
    "east_sqft = []\n",
    "east_price = []\n",
    "north_sqft = []\n",
    "north_price = []\n",
    "south_sqft = []\n",
    "south_price = []\n",
    "west_sqft = []\n",
    "west_price = []\n",
    "for i in range(len(region)):\n",
    "    if region[i] == \"East\":\n",
    "        east_sqft.append(sqft[i])\n",
    "        east_price.append(price[i])\n",
    "    elif region[i] == \"North\":\n",
    "        north_sqft.append(sqft[i])\n",
    "        north_price.append(price[i])\n",
    "    elif region[i] == \"South\":\n",
    "        south_sqft.append(sqft[i])\n",
    "        south_price.append(price[i])\n",
    "    else:\n",
    "        west_sqft.append(sqft[i])\n",
    "        west_price.append(price[i])\n",
    "    "
   ]
  },
  {
   "cell_type": "code",
   "execution_count": 61,
   "metadata": {},
   "outputs": [
    {
     "data": {
      "text/plain": [
       "<matplotlib.legend.Legend at 0x1a50bdc0d60>"
      ]
     },
     "execution_count": 61,
     "metadata": {},
     "output_type": "execute_result"
    },
    {
     "data": {
      "image/png": "[encoded data removed]",
      "text/plain": [
       "<Figure size 432x288 with 1 Axes>"
      ]
     },
     "metadata": {
      "needs_background": "light"
     },
     "output_type": "display_data"
    }
   ],
   "source": [
    "legend_names = [\"East\", \"North\", \"South\", \"West\"]\n",
    "plt.title(\"sqft vs price\")\n",
    "plt.xlabel(\"sqft\")\n",
    "plt.ylabel(\"price\")\n",
    "scatter = plt.scatter(sqft, price, c = labels)\n",
    "plt.plot(np.unique(east_sqft), np.poly1d(np.polyfit(east_sqft, east_price, 1))(np.unique(east_sqft)), 'purple')\n",
    "plt.plot(np.unique(north_sqft), np.poly1d(np.polyfit(north_sqft, north_price, 1))(np.unique(north_sqft)), 'tab:blue')\n",
    "plt.plot(np.unique(south_sqft), np.poly1d(np.polyfit(south_sqft, south_price, 1))(np.unique(south_sqft)), 'green')\n",
    "plt.plot(np.unique(west_sqft), np.poly1d(np.polyfit(west_sqft, west_price, 1))(np.unique(west_sqft)), 'yellow')\n",
    "plt.legend(handles = scatter.legend_elements()[0], labels=legend_names, title=\"Region\")"
   ]
  },
  {
   "cell_type": "code",
   "execution_count": null,
   "metadata": {},
   "outputs": [],
   "source": []
  }
 ],
 "metadata": {
  "kernelspec": {
   "display_name": "Python 3",
   "language": "python",
   "name": "python3"
  },
  "language_info": {
   "codemirror_mode": {
    "name": "ipython",
    "version": 3
   },
   "file_extension": ".py",
   "mimetype": "text/x-python",
   "name": "python",
   "nbconvert_exporter": "python",
   "pygments_lexer": "ipython3",
   "version": "3.8.3"
  }
 },
 "nbformat": 4,
 "nbformat_minor": 4
}
