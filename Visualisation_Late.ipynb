{
 "cells": [
  {
   "cell_type": "markdown",
   "id": "26fb4209-7bb2-42ff-a66b-4371d7491cbc",
   "metadata": {},
   "source": [
    "All of the notes to follow come from The Visual Display of Quantitative Information by Edward Tufte.\n",
    "\n"
   ]
  },
  {
   "cell_type": "markdown",
   "id": "ae54615e-12e4-430f-b6f4-09792649ae4a",
   "metadata": {},
   "source": [
    "Excellence in statistical graphics consists of complex ideas communicated with clarity, precision, and efficiency. Graphical displays should:\n",
    "<ul>\n",
    "    <li> Show the data</li>\n",
    "    <li> Induce the viewer to think aboit the substance rather than about methodology, graphic design, the technology used to produce the graph or anything else</li>\n",
    "    <li> Avoid distorting what the data have to say</li>\n",
    "    <li> Present many numbers in a small space</li>\n",
    "    <li> Make large datasets coherent</li>\n",
    "    <li> Encourage the eye to compare different pieces of data</li>\n",
    "    <li> Reveal the data at several levels of detail, from a broad overview to a fine structure</li>\n",
    "    <li> Serve a resonably clear purpose: description, exploration, tabulation, or decoration</li>\n",
    "    <li> Be closely integrated with the statistical and verbal descriptions of the dataset</li>\n",
    "    <li> Graphics should reveal data</li>\n",
    "</ul>"
   ]
  },
  {
   "cell_type": "markdown",
   "id": "413e34c1-7cba-4e81-acf9-d4fd8c516366",
   "metadata": {},
   "source": [
    "<ul>\n",
    "    <li><b> Graphical integrity</b></li>\n",
    "    <li> $ Lie Factor = \\frac{size of the effect shown in the graphic}{size of the effect in the data}</li>\n",
    "    <li> The representation of numbers, as physically measured on the surface of the graphics itself, should be directly proportional to the numerical qunatities represent</li>\n",
    "    <li> Clear, detailed, and thorough labelling should be used to defeat graphical distortion and ambiguity. Write out explanations of the data on the graphic. Label important events in the data.</li>\n",
    "    <li> Show data variation, not design variation</li>\n",
    "    <li> In time-series displays of money, deflated and standardised units of money are nearly always better</li>\n",
    "    <li> The number of information carrying (variables) dimensions depicted should not exceed the number of dimensions in the data</li>\n",
    "    <li> Graphics must not quote data out of context</li>\n",
    "        \n",
    "</ul>"
   ]
  },
  {
   "cell_type": "markdown",
   "id": "fbf0ef98-9ac2-472d-aecb-34300ce710a1",
   "metadata": {},
   "source": [
    "<ul>\n",
    "    <li> Sources of Graphical Integrity and Sophistication</li>\n",
    "    <li> Lack of quantitative skills in people producing graphs</li>\n",
    "    <li> The doctrine that statistical data are boring</li>\n",
    "    <li> If statistics are boring you have the wrong numbers</li>\n",
    "    <li> The doctrine that graphics are only for the unsophisticated reader</li>\n",
    "    <li> Aimed to divert and entertain those who find the text too difficult</li>\n",
    "    <li> E.B. White \"No one can write decently who us distrustful of the reader's intelligence, or whose attitude is patronising\"</li>\n",
    "    <li> Contempt for graphics and their audience, along with a lack of quantitative skills , has deadly consequences for graphics work: over-decorated and simplistic designs, tiny data sets, and big lies</li>\n",
    "    \n",
    "    \n",
    "</ul>"
   ]
  },
  {
   "cell_type": "markdown",
   "id": "6c4f51ae-f8eb-4206-8a02-0cb696c46c80",
   "metadata": {},
   "source": [
    "<ul> <li><b> Theory of Data Graphics - Data-Ink and Graphical Redesign </b></li>\n",
    "    <li> Data graphics should draw the viewer's attention to the sense and substance of data, not to something else</li>\n",
    "    <li> The data graphic should present the quantitative contents</li>\n",
    "    <li> Statistical graphics are instruments to help people reason about quantitative information</li>\n",
    "    <li>The fundamental principle of good statistical graphics: Above all else show the data</li>\n",
    "</ul>"
   ]
  },
  {
   "cell_type": "markdown",
   "id": "d43bbce3-2f29-4a45-b67d-bfad85a562e7",
   "metadata": {},
   "source": [
    "<ul>\n",
    "    <li> <b> Data-Ink </b></li>\n",
    "    <li> A large share of ink on a graphic should present data information, the ink changing as the data changes</li>\n",
    "    <li> Data-ink is the non-erasable core of graphic, the non-redundant ink arranged in response to variation in the numbers presented</li>\n",
    "    <li>  Data-ink ratio = $\\frac{data-ink}{total ink used to print the graphic}$</li>\n",
    "    <li> Data-ink ratio is the proportion of a graphic's ink devoted to non-redundant display of data information</li>\n",
    "    <li> Data-ink ratio = 1.0 - proportion of a graphic that can be erased without loss of information</li>\n",
    "    <li>The larger the share of a graphic's ink devoted to data, the better: Maximise teh data-ink ratio, within reason</li>\n",
    "    <li> Every bit of ink on a graphic requires a reason</li>\n",
    "    <li> Nearly always that reason should be that the ink presents new information</li>\n",
    "    <li> Other principles bearing on graphic design follow the idea of maximising the share of data-ink</li>\n",
    "</ul>"
   ]
  },
  {
   "cell_type": "markdown",
   "id": "51d091f2-0431-4887-a068-ff33101ccbdd",
   "metadata": {},
   "source": [
    "<ul>\n",
    "    <li> <b> Two Erasing Principles </b></li>\n",
    "    <li> Erase non-data ink, within reason</li>\n",
    "    <li> Unless redundancy has a worthy purpose: Erase redundant data-ink, with reason</li>\n",
    "    <li> Above all else show the data</li>\n",
    "    <li> Maximise the data-ink ratio</li>\n",
    "    <li> Erase non-data ink</li>\n",
    "    <li> Erase redundant data-ink</li>\n",
    "    <li> Revise and edit</li>\n",
    "</ul>"
   ]
  },
  {
   "cell_type": "markdown",
   "id": "9b4e22d8-b484-4169-a7d5-2c5f6424d87c",
   "metadata": {},
   "source": [
    "<ul>\n",
    "    <li> <b> Chartjunk: Vibrations, Grids and Ducks </b></li>\n",
    "    <li> Unintentional Optical Art</li>\n",
    "    <li> Moiré vibration is an undisciplined ambiguity, with an illusive, euye-straining quality that contaminates the entire graphic. It has no place in graphic design</li>\n",
    "    <li> One of the most sedate graphic elements, the grid should usually be muted or completely suppressed so that its presence is only implicit, lest it compete with the data</li>\n",
    "    <li> Dark grid lines are chart junk</li>\n",
    "    <li> When a graphic servers as a look-up table, then a grid may help in reading and interpolating. Even in this case the grids should be muted relative to the data</li>\n",
    "    <li> Most ready-made graph paper comes with a darkly printed grid. The reverse (unprinted) side should be used, for then the lines show through faintly and do not clutter the data. If the paper is heavily grided on both sides, throw it out!</li>\n",
    "    <li> Forgo chartjunk, including moiré vibration, the grid and the duck</li>\n",
    "        \n",
    "</ul>"
   ]
  },
  {
   "cell_type": "code",
   "execution_count": null,
   "id": "1662d72b-a92e-4584-a0d0-bc3b6b45c45b",
   "metadata": {},
   "outputs": [],
   "source": []
  }
 ],
 "metadata": {
  "kernelspec": {
   "display_name": "Python 3 (ipykernel)",
   "language": "python",
   "name": "python3"
  },
  "language_info": {
   "codemirror_mode": {
    "name": "ipython",
    "version": 3
   },
   "file_extension": ".py",
   "mimetype": "text/x-python",
   "name": "python",
   "nbconvert_exporter": "python",
   "pygments_lexer": "ipython3",
   "version": "3.11.5"
  }
 },
 "nbformat": 4,
 "nbformat_minor": 5
}
